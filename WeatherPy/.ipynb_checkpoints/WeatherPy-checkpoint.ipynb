{
 "cells": [
  {
   "cell_type": "markdown",
   "metadata": {},
   "source": [
    "# WeatherPy\n",
    "----\n",
    "\n",
    "#### Note\n",
    "* Instructions have been included for each segment. You do not have to follow them exactly, but they are included to help you think through the steps."
   ]
  },
  {
   "cell_type": "code",
   "execution_count": 5,
   "metadata": {
    "scrolled": true
   },
   "outputs": [],
   "source": [
    "# Dependencies and Setup\n",
    "import matplotlib.pyplot as plt\n",
    "import pandas as pd\n",
    "import numpy as np\n",
    "import requests\n",
    "import time\n",
    "import scipy.stats as st\n",
    "from scipy.stats import linregress\n",
    "\n",
    "# Import API key\n",
    "from api_keys import weather_api_key\n",
    "\n",
    "# Incorporated citipy to determine city based on latitude and longitude\n",
    "from citipy import citipy\n",
    "\n",
    "# Output File (CSV)\n",
    "output_data_file = \"output_data/cities.csv\"\n",
    "\n",
    "# Range of latitudes and longitudes\n",
    "lat_range = (-90, 90)\n",
    "lng_range = (-180, 180)"
   ]
  },
  {
   "cell_type": "markdown",
   "metadata": {},
   "source": [
    "## Generate Cities List"
   ]
  },
  {
   "cell_type": "code",
   "execution_count": 6,
   "metadata": {},
   "outputs": [
    {
     "data": {
      "text/plain": [
       "610"
      ]
     },
     "execution_count": 6,
     "metadata": {},
     "output_type": "execute_result"
    }
   ],
   "source": [
    "# List for holding lat_lngs and cities\n",
    "lat_lngs = []\n",
    "cities = []\n",
    "\n",
    "# Create a set of random lat and lng combinations\n",
    "lats = np.random.uniform(lat_range[0], lat_range[1], size=1500)\n",
    "lngs = np.random.uniform(lng_range[0], lng_range[1], size=1500)\n",
    "lat_lngs = zip(lats, lngs)\n",
    "\n",
    "# Identify nearest city for each lat, lng combination\n",
    "for lat_lng in lat_lngs:\n",
    "    city = citipy.nearest_city(lat_lng[0], lat_lng[1]).city_name\n",
    "    \n",
    "    # If the city is unique, then add it to a our cities list\n",
    "    if city not in cities:\n",
    "        cities.append(city)\n",
    "\n",
    "# Print the city count to confirm sufficient count\n",
    "len(cities)"
   ]
  },
  {
   "cell_type": "markdown",
   "metadata": {},
   "source": [
    "### Perform API Calls\n",
    "* Perform a weather check on each city using a series of successive API calls.\n",
    "* Include a print log of each city as it'sbeing processed (with the city number and city name).\n"
   ]
  },
  {
   "cell_type": "code",
   "execution_count": 7,
   "metadata": {},
   "outputs": [
    {
     "name": "stdout",
     "output_type": "stream",
     "text": [
      "\n",
      "Beginning Data Retrieval\n",
      "-----------------------------\n",
      "\n",
      "Processing Record 1 of Set 1 | ponta do sol\n",
      "Processing Record 2 of Set 1 | henties bay\n",
      "Processing Record 3 of Set 1 | port alfred\n",
      "Processing Record 4 of Set 1 | hilo\n",
      "Processing Record 5 of Set 1 | souillac\n",
      "Processing Record 6 of Set 1 | lebu\n",
      "Processing Record 7 of Set 1 | nikolskoye\n",
      "Processing Record 8 of Set 1 | marzuq\n",
      "Processing Record 9 of Set 1 | mineiros\n",
      "Processing Record 10 of Set 1 | ushuaia\n",
      "Processing Record 11 of Set 1 | bambous virieux\n",
      "Processing Record 12 of Set 1 | yen bai\n",
      "Processing Record 13 of Set 1 | aklavik\n",
      "Processing Record 14 of Set 1 | cabo san lucas\n",
      "Processing Record 15 of Set 1 | meyungs\n",
      "City not found. Skipping...\n",
      "Processing Record 16 of Set 1 | sentyabrskiy\n",
      "City not found. Skipping...\n",
      "Processing Record 17 of Set 1 | kapaa\n",
      "Processing Record 18 of Set 1 | puerto ayora\n",
      "Processing Record 19 of Set 1 | cape town\n",
      "Processing Record 20 of Set 1 | buala\n",
      "Processing Record 21 of Set 1 | utevka\n",
      "Processing Record 22 of Set 1 | vanavara\n",
      "Processing Record 23 of Set 1 | punta arenas\n",
      "Processing Record 24 of Set 1 | atuona\n",
      "Processing Record 25 of Set 1 | laguna\n",
      "Processing Record 26 of Set 1 | mys shmidta\n",
      "City not found. Skipping...\n",
      "Processing Record 27 of Set 1 | deputatskiy\n",
      "Processing Record 28 of Set 1 | rikitea\n",
      "Processing Record 29 of Set 1 | attawapiskat\n",
      "City not found. Skipping...\n",
      "Processing Record 30 of Set 1 | illoqqortoormiut\n",
      "City not found. Skipping...\n",
      "Processing Record 31 of Set 1 | sahibganj\n",
      "Processing Record 32 of Set 1 | tasiilaq\n",
      "Processing Record 33 of Set 1 | arraial do cabo\n",
      "Processing Record 34 of Set 1 | dover\n",
      "Processing Record 35 of Set 1 | faanui\n",
      "Processing Record 36 of Set 1 | nanpara\n",
      "Processing Record 37 of Set 1 | banjarmasin\n",
      "Processing Record 38 of Set 1 | medina\n",
      "Processing Record 39 of Set 1 | codrington\n",
      "Processing Record 40 of Set 1 | karratha\n",
      "Processing Record 41 of Set 1 | otradnoye\n",
      "Processing Record 42 of Set 1 | iaciara\n",
      "Processing Record 43 of Set 1 | nguiu\n",
      "City not found. Skipping...\n",
      "Processing Record 44 of Set 1 | mataura\n",
      "Processing Record 45 of Set 1 | lagoa\n",
      "Processing Record 46 of Set 1 | hermanus\n",
      "Processing Record 47 of Set 1 | shihezi\n",
      "Processing Record 48 of Set 1 | sao filipe\n",
      "Processing Record 49 of Set 1 | busselton\n",
      "Processing Record 50 of Set 1 | tuktoyaktuk\n",
      "Processing Record 1 of Set 2 | asau\n",
      "Processing Record 2 of Set 2 | port elizabeth\n",
      "Processing Record 3 of Set 2 | nyagan\n",
      "Processing Record 4 of Set 2 | cherskiy\n",
      "Processing Record 5 of Set 2 | saint-philippe\n",
      "Processing Record 6 of Set 2 | porto novo\n",
      "Processing Record 7 of Set 2 | isangel\n",
      "Processing Record 8 of Set 2 | bocaranga\n",
      "City not found. Skipping...\n",
      "Processing Record 9 of Set 2 | zaysan\n",
      "Processing Record 10 of Set 2 | salalah\n",
      "Processing Record 11 of Set 2 | luangwa\n",
      "Processing Record 12 of Set 2 | samalaeulu\n",
      "City not found. Skipping...\n",
      "Processing Record 13 of Set 2 | esperance\n",
      "Processing Record 14 of Set 2 | taolanaro\n",
      "City not found. Skipping...\n",
      "Processing Record 15 of Set 2 | mayo\n",
      "Processing Record 16 of Set 2 | pishin\n",
      "Processing Record 17 of Set 2 | poplar bluff\n",
      "Processing Record 18 of Set 2 | samana\n",
      "Processing Record 19 of Set 2 | butaritari\n",
      "Processing Record 20 of Set 2 | sao francisco de assis\n",
      "Processing Record 21 of Set 2 | shache\n",
      "Processing Record 22 of Set 2 | port lincoln\n",
      "Processing Record 23 of Set 2 | dunedin\n",
      "Processing Record 24 of Set 2 | broome\n",
      "Processing Record 25 of Set 2 | hobart\n",
      "Processing Record 26 of Set 2 | cidreira\n",
      "Processing Record 27 of Set 2 | naze\n",
      "Processing Record 28 of Set 2 | thompson\n",
      "Processing Record 29 of Set 2 | lavrentiya\n",
      "Processing Record 30 of Set 2 | belushya guba\n",
      "City not found. Skipping...\n",
      "Processing Record 31 of Set 2 | pangnirtung\n",
      "Processing Record 32 of Set 2 | dikson\n",
      "Processing Record 33 of Set 2 | kudahuvadhoo\n",
      "Processing Record 34 of Set 2 | clyde river\n",
      "Processing Record 35 of Set 2 | barrow\n",
      "Processing Record 36 of Set 2 | leningradskiy\n",
      "Processing Record 37 of Set 2 | tiksi\n",
      "Processing Record 38 of Set 2 | kruisfontein\n",
      "Processing Record 39 of Set 2 | chekhov\n",
      "Processing Record 40 of Set 2 | tiznit\n",
      "Processing Record 41 of Set 2 | yellowknife\n",
      "Processing Record 42 of Set 2 | la libertad\n",
      "Processing Record 43 of Set 2 | bredasdorp\n",
      "Processing Record 44 of Set 2 | nago\n",
      "Processing Record 45 of Set 2 | avarua\n",
      "Processing Record 46 of Set 2 | buin\n",
      "Processing Record 47 of Set 2 | medianeira\n",
      "Processing Record 48 of Set 2 | nizhneyansk\n",
      "City not found. Skipping...\n",
      "Processing Record 49 of Set 2 | raudeberg\n",
      "Processing Record 50 of Set 2 | tabiauea\n",
      "City not found. Skipping...\n",
      "Processing Record 1 of Set 3 | barentsburg\n",
      "City not found. Skipping...\n",
      "Processing Record 2 of Set 3 | dafeng\n",
      "Processing Record 3 of Set 3 | provideniya\n",
      "Processing Record 4 of Set 3 | feltre\n",
      "Processing Record 5 of Set 3 | graham\n",
      "Processing Record 6 of Set 3 | teahupoo\n",
      "Processing Record 7 of Set 3 | the pas\n",
      "Processing Record 8 of Set 3 | pringsewu\n",
      "Processing Record 9 of Set 3 | narsaq\n",
      "Processing Record 10 of Set 3 | yerbogachen\n",
      "Processing Record 11 of Set 3 | vila\n",
      "Processing Record 12 of Set 3 | banjar\n",
      "Processing Record 13 of Set 3 | almaznyy\n",
      "Processing Record 14 of Set 3 | tayga\n",
      "Processing Record 15 of Set 3 | barra do garcas\n",
      "Processing Record 16 of Set 3 | mirabad\n",
      "Processing Record 17 of Set 3 | pimentel\n",
      "Processing Record 18 of Set 3 | dawlatabad\n",
      "Processing Record 19 of Set 3 | bac lieu\n",
      "Processing Record 20 of Set 3 | mount gambier\n",
      "Processing Record 21 of Set 3 | vaini\n",
      "Processing Record 22 of Set 3 | warri\n",
      "Processing Record 23 of Set 3 | tomatlan\n",
      "Processing Record 24 of Set 3 | tual\n",
      "Processing Record 25 of Set 3 | bethel\n",
      "Processing Record 26 of Set 3 | dekoa\n",
      "City not found. Skipping...\n",
      "Processing Record 27 of Set 3 | quepos\n",
      "Processing Record 28 of Set 3 | port macquarie\n",
      "Processing Record 29 of Set 3 | jamestown\n",
      "Processing Record 30 of Set 3 | bandarbeyla\n",
      "Processing Record 31 of Set 3 | halifax\n",
      "Processing Record 32 of Set 3 | hirara\n",
      "Processing Record 33 of Set 3 | palamos\n",
      "Processing Record 34 of Set 3 | gizo\n",
      "Processing Record 35 of Set 3 | sitka\n",
      "Processing Record 36 of Set 3 | omsukchan\n",
      "Processing Record 37 of Set 3 | husavik\n",
      "Processing Record 38 of Set 3 | port hedland\n",
      "Processing Record 39 of Set 3 | hovd\n",
      "Processing Record 40 of Set 3 | opuwo\n",
      "Processing Record 41 of Set 3 | nanortalik\n",
      "Processing Record 42 of Set 3 | ancud\n",
      "Processing Record 43 of Set 3 | boyuibe\n",
      "Processing Record 44 of Set 3 | mount isa\n",
      "Processing Record 45 of Set 3 | mayahi\n",
      "Processing Record 46 of Set 3 | vaitupu\n",
      "City not found. Skipping...\n",
      "Processing Record 47 of Set 3 | lompoc\n",
      "Processing Record 48 of Set 3 | fernie\n",
      "Processing Record 49 of Set 3 | morgan city\n",
      "Processing Record 50 of Set 3 | soe\n",
      "Processing Record 1 of Set 4 | ambilobe\n",
      "Processing Record 2 of Set 4 | saldanha\n",
      "Processing Record 3 of Set 4 | longyearbyen\n",
      "Processing Record 4 of Set 4 | khatanga\n",
      "Processing Record 5 of Set 4 | tuatapere\n",
      "Processing Record 6 of Set 4 | eirunepe\n",
      "Processing Record 7 of Set 4 | candawaga\n",
      "City not found. Skipping...\n",
      "Processing Record 8 of Set 4 | georgetown\n",
      "Processing Record 9 of Set 4 | upernavik\n",
      "Processing Record 10 of Set 4 | blois\n",
      "Processing Record 11 of Set 4 | hithadhoo\n",
      "Processing Record 12 of Set 4 | egvekinot\n",
      "Processing Record 13 of Set 4 | ler\n",
      "Processing Record 14 of Set 4 | bargal\n",
      "City not found. Skipping...\n",
      "Processing Record 15 of Set 4 | new norfolk\n",
      "Processing Record 16 of Set 4 | moose factory\n",
      "Processing Record 17 of Set 4 | bismarck\n",
      "Processing Record 18 of Set 4 | kaitangata\n",
      "Processing Record 19 of Set 4 | huilong\n",
      "Processing Record 20 of Set 4 | granada\n",
      "Processing Record 21 of Set 4 | garowe\n",
      "Processing Record 22 of Set 4 | coquimbo\n",
      "Processing Record 23 of Set 4 | pisco\n",
      "Processing Record 24 of Set 4 | broadford\n",
      "Processing Record 25 of Set 4 | mbaiki\n",
      "Processing Record 26 of Set 4 | aloleng\n",
      "Processing Record 27 of Set 4 | prescott\n",
      "Processing Record 28 of Set 4 | zhuhai\n",
      "Processing Record 29 of Set 4 | guajara-mirim\n",
      "City not found. Skipping...\n",
      "Processing Record 30 of Set 4 | penzance\n",
      "Processing Record 31 of Set 4 | dungarvan\n",
      "Processing Record 32 of Set 4 | amahai\n",
      "Processing Record 33 of Set 4 | peddapuram\n",
      "Processing Record 34 of Set 4 | saint george\n",
      "Processing Record 35 of Set 4 | pevek\n",
      "Processing Record 36 of Set 4 | qaqortoq\n"
     ]
    },
    {
     "name": "stdout",
     "output_type": "stream",
     "text": [
      "Processing Record 37 of Set 4 | albany\n",
      "Processing Record 38 of Set 4 | leh\n",
      "Processing Record 39 of Set 4 | qaanaaq\n",
      "Processing Record 40 of Set 4 | mar del plata\n",
      "Processing Record 41 of Set 4 | bathsheba\n",
      "Processing Record 42 of Set 4 | norman wells\n",
      "Processing Record 43 of Set 4 | praya\n",
      "Processing Record 44 of Set 4 | jumla\n",
      "Processing Record 45 of Set 4 | goderich\n",
      "Processing Record 46 of Set 4 | alofi\n",
      "Processing Record 47 of Set 4 | nakhon thai\n",
      "Processing Record 48 of Set 4 | zabaykalsk\n",
      "Processing Record 49 of Set 4 | orcopampa\n",
      "Processing Record 50 of Set 4 | tessalit\n",
      "Processing Record 1 of Set 5 | kavieng\n",
      "Processing Record 2 of Set 5 | caravelas\n",
      "Processing Record 3 of Set 5 | san quintin\n",
      "Processing Record 4 of Set 5 | puerto lleras\n",
      "Processing Record 5 of Set 5 | baghdad\n",
      "Processing Record 6 of Set 5 | sokolo\n",
      "Processing Record 7 of Set 5 | padang\n",
      "Processing Record 8 of Set 5 | north branch\n",
      "Processing Record 9 of Set 5 | nhulunbuy\n",
      "Processing Record 10 of Set 5 | siocon\n",
      "Processing Record 11 of Set 5 | lamballe\n",
      "Processing Record 12 of Set 5 | bireun\n",
      "Processing Record 13 of Set 5 | mahebourg\n",
      "Processing Record 14 of Set 5 | mbandaka\n",
      "Processing Record 15 of Set 5 | qasigiannguit\n",
      "Processing Record 16 of Set 5 | sorland\n",
      "Processing Record 17 of Set 5 | shirgaon\n",
      "Processing Record 18 of Set 5 | coetupo\n",
      "City not found. Skipping...\n",
      "Processing Record 19 of Set 5 | cape canaveral\n",
      "Processing Record 20 of Set 5 | manokwari\n",
      "Processing Record 21 of Set 5 | fortuna\n",
      "Processing Record 22 of Set 5 | tres arroyos\n",
      "Processing Record 23 of Set 5 | lokosovo\n",
      "Processing Record 24 of Set 5 | bansang\n",
      "Processing Record 25 of Set 5 | anar darreh\n",
      "City not found. Skipping...\n",
      "Processing Record 26 of Set 5 | kiama\n",
      "Processing Record 27 of Set 5 | luanda\n",
      "Processing Record 28 of Set 5 | castro\n",
      "Processing Record 29 of Set 5 | hvammstangi\n",
      "City not found. Skipping...\n",
      "Processing Record 30 of Set 5 | saskylakh\n",
      "Processing Record 31 of Set 5 | ulladulla\n",
      "Processing Record 32 of Set 5 | micheweni\n",
      "Processing Record 33 of Set 5 | sao miguel do araguaia\n",
      "Processing Record 34 of Set 5 | saluzzo\n",
      "Processing Record 35 of Set 5 | anadyr\n",
      "Processing Record 36 of Set 5 | bolshoy tsaryn\n",
      "City not found. Skipping...\n",
      "Processing Record 37 of Set 5 | juazeiro\n",
      "Processing Record 38 of Set 5 | terrace\n",
      "Processing Record 39 of Set 5 | richards bay\n",
      "Processing Record 40 of Set 5 | dingle\n",
      "Processing Record 41 of Set 5 | comodoro rivadavia\n",
      "Processing Record 42 of Set 5 | mumford\n",
      "Processing Record 43 of Set 5 | mazamari\n",
      "Processing Record 44 of Set 5 | hasaki\n",
      "Processing Record 45 of Set 5 | pavilosta\n",
      "Processing Record 46 of Set 5 | kargasok\n",
      "Processing Record 47 of Set 5 | jibuti\n",
      "Processing Record 48 of Set 5 | luderitz\n",
      "Processing Record 49 of Set 5 | lasa\n",
      "Processing Record 50 of Set 5 | bergama\n",
      "Processing Record 1 of Set 6 | olafsvik\n",
      "Processing Record 2 of Set 6 | san carlos\n",
      "Processing Record 3 of Set 6 | asilah\n",
      "Processing Record 4 of Set 6 | havre-saint-pierre\n",
      "Processing Record 5 of Set 6 | ferme-neuve\n",
      "Processing Record 6 of Set 6 | grand gaube\n",
      "Processing Record 7 of Set 6 | saint-louis\n",
      "Processing Record 8 of Set 6 | yar-sale\n",
      "Processing Record 9 of Set 6 | ixtapa\n",
      "Processing Record 10 of Set 6 | general roca\n",
      "Processing Record 11 of Set 6 | tafo\n",
      "Processing Record 12 of Set 6 | imbituba\n",
      "Processing Record 13 of Set 6 | alakurtti\n",
      "Processing Record 14 of Set 6 | quzhou\n",
      "Processing Record 15 of Set 6 | itacarambi\n",
      "Processing Record 16 of Set 6 | labutta\n",
      "City not found. Skipping...\n",
      "Processing Record 17 of Set 6 | santa vitoria do palmar\n",
      "Processing Record 18 of Set 6 | krk\n",
      "Processing Record 19 of Set 6 | lisakovsk\n",
      "Processing Record 20 of Set 6 | victoria\n",
      "Processing Record 21 of Set 6 | neftcala\n",
      "Processing Record 22 of Set 6 | carnarvon\n",
      "Processing Record 23 of Set 6 | iqaluit\n",
      "Processing Record 24 of Set 6 | east london\n",
      "Processing Record 25 of Set 6 | lolua\n",
      "City not found. Skipping...\n",
      "Processing Record 26 of Set 6 | tabou\n",
      "Processing Record 27 of Set 6 | port augusta\n",
      "Processing Record 28 of Set 6 | el tigre\n",
      "Processing Record 29 of Set 6 | camabatela\n",
      "Processing Record 30 of Set 6 | walvis bay\n",
      "Processing Record 31 of Set 6 | ust-koksa\n",
      "Processing Record 32 of Set 6 | jieshi\n",
      "Processing Record 33 of Set 6 | ribeira grande\n",
      "Processing Record 34 of Set 6 | izhma\n",
      "Processing Record 35 of Set 6 | avera\n",
      "Processing Record 36 of Set 6 | hambantota\n",
      "Processing Record 37 of Set 6 | riyadh\n",
      "Processing Record 38 of Set 6 | chapleau\n",
      "Processing Record 39 of Set 6 | constitucion\n",
      "Processing Record 40 of Set 6 | puerto del rosario\n",
      "Processing Record 41 of Set 6 | karacakoy\n",
      "Processing Record 42 of Set 6 | kahului\n",
      "Processing Record 43 of Set 6 | vaitape\n",
      "Processing Record 44 of Set 6 | mogadishu\n",
      "Processing Record 45 of Set 6 | sainte-marie\n",
      "Processing Record 46 of Set 6 | itoman\n",
      "Processing Record 47 of Set 6 | ahipara\n",
      "Processing Record 48 of Set 6 | torbay\n",
      "Processing Record 49 of Set 6 | hihifo\n",
      "City not found. Skipping...\n",
      "Processing Record 50 of Set 6 | labuhan\n",
      "Processing Record 1 of Set 7 | lakefield\n",
      "Processing Record 2 of Set 7 | bluff\n",
      "Processing Record 3 of Set 7 | tamasopo\n",
      "Processing Record 4 of Set 7 | taiyuan\n",
      "Processing Record 5 of Set 7 | pilar\n",
      "Processing Record 6 of Set 7 | san rafael\n",
      "Processing Record 7 of Set 7 | lorengau\n",
      "Processing Record 8 of Set 7 | cape elizabeth\n",
      "City not found. Skipping...\n",
      "Processing Record 9 of Set 7 | aswan\n",
      "Processing Record 10 of Set 7 | nome\n",
      "Processing Record 11 of Set 7 | bozeman\n",
      "Processing Record 12 of Set 7 | buraydah\n",
      "Processing Record 13 of Set 7 | quarai\n",
      "Processing Record 14 of Set 7 | el rodeo\n",
      "Processing Record 15 of Set 7 | palabuhanratu\n",
      "City not found. Skipping...\n",
      "Processing Record 16 of Set 7 | oyem\n",
      "Processing Record 17 of Set 7 | arlit\n",
      "Processing Record 18 of Set 7 | santa maria\n",
      "Processing Record 19 of Set 7 | sabha\n",
      "Processing Record 20 of Set 7 | baiyin\n",
      "Processing Record 21 of Set 7 | nouadhibou\n",
      "Processing Record 22 of Set 7 | klaksvik\n",
      "Processing Record 23 of Set 7 | kodiak\n",
      "Processing Record 24 of Set 7 | kharp\n",
      "Processing Record 25 of Set 7 | rodos\n",
      "Processing Record 26 of Set 7 | broken hill\n",
      "Processing Record 27 of Set 7 | shimoda\n",
      "Processing Record 28 of Set 7 | suffolk\n",
      "Processing Record 29 of Set 7 | moate\n",
      "Processing Record 30 of Set 7 | gagino\n",
      "Processing Record 31 of Set 7 | khandyga\n",
      "Processing Record 32 of Set 7 | awjilah\n",
      "Processing Record 33 of Set 7 | chiman\n",
      "Processing Record 34 of Set 7 | kingman\n",
      "Processing Record 35 of Set 7 | waw\n",
      "Processing Record 36 of Set 7 | launceston\n",
      "Processing Record 37 of Set 7 | bonthe\n",
      "Processing Record 38 of Set 7 | antofagasta\n",
      "Processing Record 39 of Set 7 | jaguey grande\n",
      "Processing Record 40 of Set 7 | geraldton\n",
      "Processing Record 41 of Set 7 | trairi\n",
      "Processing Record 42 of Set 7 | cap malheureux\n",
      "Processing Record 43 of Set 7 | dzhusaly\n",
      "City not found. Skipping...\n",
      "Processing Record 44 of Set 7 | sola\n",
      "Processing Record 45 of Set 7 | san patricio\n",
      "Processing Record 46 of Set 7 | tumannyy\n",
      "City not found. Skipping...\n",
      "Processing Record 47 of Set 7 | delvada\n",
      "Processing Record 48 of Set 7 | ust-kamchatsk\n",
      "City not found. Skipping...\n",
      "Processing Record 49 of Set 7 | dhidhdhoo\n",
      "Processing Record 50 of Set 7 | coahuayana\n",
      "Processing Record 1 of Set 8 | lufilufi\n",
      "Processing Record 2 of Set 8 | zhigansk\n",
      "Processing Record 3 of Set 8 | amderma\n",
      "City not found. Skipping...\n",
      "Processing Record 4 of Set 8 | banepa\n",
      "Processing Record 5 of Set 8 | jalu\n",
      "Processing Record 6 of Set 8 | ostrovnoy\n",
      "Processing Record 7 of Set 8 | hobyo\n",
      "Processing Record 8 of Set 8 | burica\n",
      "City not found. Skipping...\n",
      "Processing Record 9 of Set 8 | bontang\n",
      "Processing Record 10 of Set 8 | nabire\n",
      "Processing Record 11 of Set 8 | ornskoldsvik\n",
      "Processing Record 12 of Set 8 | sorvag\n",
      "City not found. Skipping...\n",
      "Processing Record 13 of Set 8 | cockburn town\n",
      "Processing Record 14 of Set 8 | evensk\n",
      "Processing Record 15 of Set 8 | mareeba\n",
      "Processing Record 16 of Set 8 | chokurdakh\n",
      "Processing Record 17 of Set 8 | paamiut\n",
      "Processing Record 18 of Set 8 | araouane\n",
      "Processing Record 19 of Set 8 | phonhong\n",
      "Processing Record 20 of Set 8 | agde\n",
      "Processing Record 21 of Set 8 | grootfontein\n",
      "Processing Record 22 of Set 8 | honningsvag\n",
      "Processing Record 23 of Set 8 | dasoguz\n",
      "Processing Record 24 of Set 8 | koudougou\n",
      "Processing Record 25 of Set 8 | ilulissat\n",
      "Processing Record 26 of Set 8 | beni suef\n"
     ]
    },
    {
     "name": "stdout",
     "output_type": "stream",
     "text": [
      "Processing Record 27 of Set 8 | harnosand\n",
      "Processing Record 28 of Set 8 | tautira\n",
      "Processing Record 29 of Set 8 | san ramon\n",
      "Processing Record 30 of Set 8 | kawalu\n",
      "Processing Record 31 of Set 8 | alice springs\n",
      "Processing Record 32 of Set 8 | mugla\n",
      "Processing Record 33 of Set 8 | tulum\n",
      "Processing Record 34 of Set 8 | mount pleasant\n",
      "Processing Record 35 of Set 8 | obo\n",
      "Processing Record 36 of Set 8 | bayanday\n",
      "Processing Record 37 of Set 8 | doha\n",
      "Processing Record 38 of Set 8 | allacapan\n",
      "Processing Record 39 of Set 8 | klamath falls\n",
      "Processing Record 40 of Set 8 | yuxia\n",
      "Processing Record 41 of Set 8 | mitsamiouli\n",
      "Processing Record 42 of Set 8 | canta\n",
      "Processing Record 43 of Set 8 | lagos\n",
      "Processing Record 44 of Set 8 | vao\n",
      "Processing Record 45 of Set 8 | rajakhera\n",
      "Processing Record 46 of Set 8 | mancio lima\n",
      "Processing Record 47 of Set 8 | trelew\n",
      "Processing Record 48 of Set 8 | harper\n",
      "Processing Record 49 of Set 8 | doume\n",
      "Processing Record 50 of Set 8 | indian head\n",
      "Processing Record 1 of Set 9 | miracema do tocantins\n",
      "Processing Record 2 of Set 9 | pacific grove\n",
      "Processing Record 3 of Set 9 | minsk\n",
      "Processing Record 4 of Set 9 | nagahama\n",
      "Processing Record 5 of Set 9 | high prairie\n",
      "Processing Record 6 of Set 9 | hualmay\n",
      "Processing Record 7 of Set 9 | ardistan\n",
      "City not found. Skipping...\n",
      "Processing Record 8 of Set 9 | flinders\n",
      "Processing Record 9 of Set 9 | makakilo city\n",
      "Processing Record 10 of Set 9 | uddevalla\n",
      "Processing Record 11 of Set 9 | chernyshevskiy\n",
      "Processing Record 12 of Set 9 | tsihombe\n",
      "City not found. Skipping...\n",
      "Processing Record 13 of Set 9 | salym\n",
      "Processing Record 14 of Set 9 | kamaishi\n",
      "Processing Record 15 of Set 9 | neiafu\n",
      "Processing Record 16 of Set 9 | mananara\n",
      "Processing Record 17 of Set 9 | hailar\n",
      "Processing Record 18 of Set 9 | sao joao da barra\n",
      "Processing Record 19 of Set 9 | bereda\n",
      "Processing Record 20 of Set 9 | airai\n",
      "Processing Record 21 of Set 9 | atambua\n",
      "Processing Record 22 of Set 9 | bur gabo\n",
      "City not found. Skipping...\n",
      "Processing Record 23 of Set 9 | yantal\n",
      "Processing Record 24 of Set 9 | huanan\n",
      "Processing Record 25 of Set 9 | coracao de jesus\n",
      "Processing Record 26 of Set 9 | elbrus\n",
      "Processing Record 27 of Set 9 | umm ruwabah\n",
      "City not found. Skipping...\n",
      "Processing Record 28 of Set 9 | coromandel\n",
      "Processing Record 29 of Set 9 | denpasar\n",
      "Processing Record 30 of Set 9 | palmer\n",
      "Processing Record 31 of Set 9 | brae\n",
      "Processing Record 32 of Set 9 | hamilton\n",
      "Processing Record 33 of Set 9 | jizan\n",
      "Processing Record 34 of Set 9 | benguela\n",
      "Processing Record 35 of Set 9 | vilhena\n",
      "Processing Record 36 of Set 9 | sechura\n",
      "Processing Record 37 of Set 9 | parana\n",
      "Processing Record 38 of Set 9 | saleaula\n",
      "City not found. Skipping...\n",
      "Processing Record 39 of Set 9 | ugra\n",
      "Processing Record 40 of Set 9 | la ronge\n",
      "Processing Record 41 of Set 9 | louisbourg\n",
      "City not found. Skipping...\n",
      "Processing Record 42 of Set 9 | bonavista\n",
      "Processing Record 43 of Set 9 | wenling\n",
      "Processing Record 44 of Set 9 | roald\n",
      "Processing Record 45 of Set 9 | bengkulu\n",
      "Processing Record 46 of Set 9 | klyuchi\n",
      "Processing Record 47 of Set 9 | kefalos\n",
      "Processing Record 48 of Set 9 | bafq\n",
      "Processing Record 49 of Set 9 | katsuura\n",
      "Processing Record 50 of Set 9 | tura\n",
      "Processing Record 1 of Set 10 | saint-augustin\n",
      "Processing Record 2 of Set 10 | praia da vitoria\n",
      "Processing Record 3 of Set 10 | campbell river\n",
      "Processing Record 4 of Set 10 | gobabis\n",
      "Processing Record 5 of Set 10 | severo-kurilsk\n",
      "Processing Record 6 of Set 10 | chapais\n",
      "Processing Record 7 of Set 10 | grindavik\n",
      "Processing Record 8 of Set 10 | saint anthony\n",
      "Processing Record 9 of Set 10 | kloulklubed\n",
      "Processing Record 10 of Set 10 | ozgon\n",
      "City not found. Skipping...\n",
      "Processing Record 11 of Set 10 | neftegorsk\n",
      "Processing Record 12 of Set 10 | ostersund\n",
      "Processing Record 13 of Set 10 | maningrida\n",
      "Processing Record 14 of Set 10 | fort nelson\n",
      "Processing Record 15 of Set 10 | bria\n",
      "Processing Record 16 of Set 10 | prieska\n",
      "Processing Record 17 of Set 10 | sakaiminato\n",
      "Processing Record 18 of Set 10 | pacifica\n",
      "Processing Record 19 of Set 10 | romitan\n",
      "Processing Record 20 of Set 10 | pedasi\n",
      "Processing Record 21 of Set 10 | thinadhoo\n",
      "Processing Record 22 of Set 10 | cascais\n",
      "Processing Record 23 of Set 10 | saint-pierre\n",
      "Processing Record 24 of Set 10 | tagbac\n",
      "Processing Record 25 of Set 10 | ningxiang\n",
      "Processing Record 26 of Set 10 | beringovskiy\n",
      "Processing Record 27 of Set 10 | fairbanks\n",
      "Processing Record 28 of Set 10 | grand river south east\n",
      "City not found. Skipping...\n",
      "Processing Record 29 of Set 10 | springdale\n",
      "Processing Record 30 of Set 10 | haines junction\n",
      "Processing Record 31 of Set 10 | komsomolskiy\n",
      "Processing Record 32 of Set 10 | nuuk\n",
      "Processing Record 33 of Set 10 | tawkar\n",
      "City not found. Skipping...\n",
      "Processing Record 34 of Set 10 | anloga\n",
      "Processing Record 35 of Set 10 | gurskoye\n",
      "City not found. Skipping...\n",
      "Processing Record 36 of Set 10 | shirokiy\n",
      "Processing Record 37 of Set 10 | tanete\n",
      "Processing Record 38 of Set 10 | champerico\n",
      "Processing Record 39 of Set 10 | ermelo\n",
      "Processing Record 40 of Set 10 | kamenka\n",
      "Processing Record 41 of Set 10 | johnstown\n",
      "Processing Record 42 of Set 10 | boyle\n",
      "Processing Record 43 of Set 10 | klyuchevskiy\n",
      "Processing Record 44 of Set 10 | inhambane\n",
      "Processing Record 45 of Set 10 | lata\n",
      "Processing Record 46 of Set 10 | cap-aux-meules\n",
      "Processing Record 47 of Set 10 | haibowan\n",
      "City not found. Skipping...\n",
      "Processing Record 48 of Set 10 | kroderen\n",
      "City not found. Skipping...\n",
      "Processing Record 49 of Set 10 | sibut\n",
      "Processing Record 50 of Set 10 | contamana\n",
      "Processing Record 1 of Set 11 | bilibino\n",
      "Processing Record 2 of Set 11 | ekhabi\n",
      "Processing Record 3 of Set 11 | menongue\n",
      "Processing Record 4 of Set 11 | gangapur\n",
      "Processing Record 5 of Set 11 | clarence town\n",
      "Processing Record 6 of Set 11 | tonk\n",
      "Processing Record 7 of Set 11 | kirkuk\n",
      "Processing Record 8 of Set 11 | coihaique\n",
      "Processing Record 9 of Set 11 | bambanglipuro\n",
      "Processing Record 10 of Set 11 | wanaka\n",
      "Processing Record 11 of Set 11 | sao fidelis\n",
      "Processing Record 12 of Set 11 | fenoarivo atsinanana\n",
      "Processing Record 13 of Set 11 | sibu\n",
      "Processing Record 14 of Set 11 | yarada\n",
      "Processing Record 15 of Set 11 | shelburne\n",
      "Processing Record 16 of Set 11 | rungata\n",
      "City not found. Skipping...\n",
      "Processing Record 17 of Set 11 | japura\n",
      "Processing Record 18 of Set 11 | ndola\n",
      "Processing Record 19 of Set 11 | samusu\n",
      "City not found. Skipping...\n",
      "Processing Record 20 of Set 11 | madang\n",
      "Processing Record 21 of Set 11 | yulara\n",
      "Processing Record 22 of Set 11 | banff\n",
      "Processing Record 23 of Set 11 | sidney\n",
      "Processing Record 24 of Set 11 | heinola\n",
      "Processing Record 25 of Set 11 | udachnyy\n",
      "Processing Record 26 of Set 11 | taoudenni\n",
      "Processing Record 27 of Set 11 | khonsa\n",
      "Processing Record 28 of Set 11 | bahia honda\n",
      "Processing Record 29 of Set 11 | campoverde\n",
      "Processing Record 30 of Set 11 | mocajuba\n",
      "Processing Record 31 of Set 11 | kavaratti\n",
      "Processing Record 32 of Set 11 | daru\n",
      "Processing Record 33 of Set 11 | atar\n",
      "Processing Record 34 of Set 11 | gorontalo\n",
      "Processing Record 35 of Set 11 | sao geraldo do araguaia\n",
      "Processing Record 36 of Set 11 | miyako\n",
      "Processing Record 37 of Set 11 | xadani\n",
      "City not found. Skipping...\n",
      "Processing Record 38 of Set 11 | kidal\n",
      "Processing Record 39 of Set 11 | makokou\n",
      "Processing Record 40 of Set 11 | salinopolis\n",
      "Processing Record 41 of Set 11 | kapit\n",
      "Processing Record 42 of Set 11 | raymond\n",
      "Processing Record 43 of Set 11 | nelson bay\n",
      "Processing Record 44 of Set 11 | marienburg\n",
      "Processing Record 45 of Set 11 | sumbawanga\n",
      "Processing Record 46 of Set 11 | yurginskoye\n",
      "Processing Record 47 of Set 11 | chagda\n",
      "City not found. Skipping...\n",
      "Processing Record 48 of Set 11 | takoradi\n",
      "Processing Record 49 of Set 11 | mnogovershinnyy\n",
      "Processing Record 50 of Set 11 | vila do maio\n",
      "Processing Record 1 of Set 12 | liusha\n",
      "Processing Record 2 of Set 12 | bosobolo\n",
      "Processing Record 3 of Set 12 | roma\n",
      "Processing Record 4 of Set 12 | batie\n",
      "Processing Record 5 of Set 12 | alta floresta\n",
      "Processing Record 6 of Set 12 | guerrero negro\n",
      "Processing Record 7 of Set 12 | portland\n",
      "Processing Record 8 of Set 12 | kandi\n",
      "Processing Record 9 of Set 12 | luwuk\n",
      "Processing Record 10 of Set 12 | vung tau\n",
      "Processing Record 11 of Set 12 | boralday\n",
      "Processing Record 12 of Set 12 | ola\n"
     ]
    },
    {
     "name": "stdout",
     "output_type": "stream",
     "text": [
      "Processing Record 13 of Set 12 | hami\n",
      "Processing Record 14 of Set 12 | semporna\n",
      "Processing Record 15 of Set 12 | hay river\n",
      "Processing Record 16 of Set 12 | aleppo\n",
      "Processing Record 17 of Set 12 | mae hong son\n",
      "Processing Record 18 of Set 12 | paradwip\n",
      "City not found. Skipping...\n",
      "Processing Record 19 of Set 12 | molteno\n",
      "Processing Record 20 of Set 12 | te anau\n",
      "Processing Record 21 of Set 12 | umzimvubu\n",
      "City not found. Skipping...\n",
      "Processing Record 22 of Set 12 | huicungo\n",
      "Processing Record 23 of Set 12 | abu kamal\n",
      "Processing Record 24 of Set 12 | los llanos de aridane\n",
      "Processing Record 25 of Set 12 | chuy\n",
      "Processing Record 26 of Set 12 | toyo\n",
      "Processing Record 27 of Set 12 | petropavlovskaya\n",
      "Processing Record 28 of Set 12 | gazanjyk\n",
      "Processing Record 29 of Set 12 | natal\n",
      "Processing Record 30 of Set 12 | namatanai\n",
      "Processing Record 31 of Set 12 | khormuj\n",
      "City not found. Skipping...\n",
      "Processing Record 32 of Set 12 | sumbawa\n",
      "City not found. Skipping...\n",
      "Processing Record 33 of Set 12 | homer\n",
      "Processing Record 34 of Set 12 | washington\n",
      "Processing Record 35 of Set 12 | north bend\n",
      "Processing Record 36 of Set 12 | ca mau\n",
      "Processing Record 37 of Set 12 | great yarmouth\n",
      "Processing Record 38 of Set 12 | zeya\n",
      "Processing Record 39 of Set 12 | igarka\n",
      "Processing Record 40 of Set 12 | tawau\n",
      "Processing Record 41 of Set 12 | gamboula\n",
      "Processing Record 42 of Set 12 | havoysund\n",
      "Processing Record 43 of Set 12 | san cristobal\n",
      "Processing Record 44 of Set 12 | mugur-aksy\n",
      "Processing Record 45 of Set 12 | urengoy\n",
      "Processing Record 46 of Set 12 | batagay-alyta\n",
      "Processing Record 47 of Set 12 | hofn\n",
      "Processing Record 48 of Set 12 | labytnangi\n",
      "Processing Record 49 of Set 12 | osmena\n",
      "Processing Record 50 of Set 12 | konza\n",
      "Processing Record 1 of Set 13 | bengkalis\n",
      "City not found. Skipping...\n",
      "Processing Record 2 of Set 13 | viraganur\n",
      "Processing Record 3 of Set 13 | erzin\n",
      "Processing Record 4 of Set 13 | zhanakorgan\n",
      "Processing Record 5 of Set 13 | chadan\n",
      "Processing Record 6 of Set 13 | benemerito de las americas\n",
      "Processing Record 7 of Set 13 | kenai\n",
      "Processing Record 8 of Set 13 | portobelo\n",
      "Processing Record 9 of Set 13 | surt\n",
      "Processing Record 10 of Set 13 | rorvik\n",
      "-----------------------------\n",
      "Data Retrieval Complete\n",
      "-----------------------------\n"
     ]
    }
   ],
   "source": [
    "city_data = []\n",
    "rcd = 0\n",
    "sets = 1\n",
    "\n",
    "print('\\nBeginning Data Retrieval\\n-----------------------------\\n')\n",
    "\n",
    "for city in cities:\n",
    "    rcd += 1\n",
    "    print(f'Processing Record {rcd} of Set {sets} | {city}')\n",
    "    \n",
    "    if rcd == 50:\n",
    "        rcd = 0\n",
    "        sets += 1\n",
    "\n",
    "    url = f\"https://api.openweathermap.org/data/2.5/weather?units=Imperial&appid={weather_api_key}&q={city}\"\n",
    "    res = requests.get(url).json()\n",
    "\n",
    "    try:\n",
    "        city_data.append({\n",
    "            'City': city,\n",
    "            'Lat': res['coord']['lat'],\n",
    "            'Lng': res['coord']['lon'],\n",
    "            'Temp': res['main']['temp_max'],\n",
    "            'Humidity': res['main']['humidity'],\n",
    "            'Cloudiness': res['clouds']['all'],\n",
    "            'Wind': res['wind']['speed'],\n",
    "            'Country': res['sys']['country'],\n",
    "            'Date': res['dt']        \n",
    "        })\n",
    "    except:\n",
    "        print('City not found. Skipping...')\n",
    "        pass\n",
    "        \n",
    "print('-----------------------------\\nData Retrieval Complete\\n-----------------------------') "
   ]
  },
  {
   "cell_type": "markdown",
   "metadata": {},
   "source": [
    "### Convert Raw Data to DataFrame\n",
    "* Export the city data into a .csv.\n",
    "* Display the DataFrame"
   ]
  },
  {
   "cell_type": "code",
   "execution_count": 9,
   "metadata": {},
   "outputs": [
    {
     "data": {
      "text/html": [
       "<div>\n",
       "<style scoped>\n",
       "    .dataframe tbody tr th:only-of-type {\n",
       "        vertical-align: middle;\n",
       "    }\n",
       "\n",
       "    .dataframe tbody tr th {\n",
       "        vertical-align: top;\n",
       "    }\n",
       "\n",
       "    .dataframe thead th {\n",
       "        text-align: right;\n",
       "    }\n",
       "</style>\n",
       "<table border=\"1\" class=\"dataframe\">\n",
       "  <thead>\n",
       "    <tr style=\"text-align: right;\">\n",
       "      <th></th>\n",
       "      <th>City</th>\n",
       "      <th>Lat</th>\n",
       "      <th>Lng</th>\n",
       "      <th>Temp</th>\n",
       "      <th>Humidity</th>\n",
       "      <th>Cloudiness</th>\n",
       "      <th>Wind</th>\n",
       "      <th>Country</th>\n",
       "      <th>Date</th>\n",
       "    </tr>\n",
       "  </thead>\n",
       "  <tbody>\n",
       "    <tr>\n",
       "      <th>0</th>\n",
       "      <td>ponta do sol</td>\n",
       "      <td>32.6667</td>\n",
       "      <td>-17.1000</td>\n",
       "      <td>54.0</td>\n",
       "      <td>68</td>\n",
       "      <td>11</td>\n",
       "      <td>1.01</td>\n",
       "      <td>PT</td>\n",
       "      <td>1612655475</td>\n",
       "    </tr>\n",
       "    <tr>\n",
       "      <th>1</th>\n",
       "      <td>henties bay</td>\n",
       "      <td>-22.1160</td>\n",
       "      <td>14.2845</td>\n",
       "      <td>64.0</td>\n",
       "      <td>89</td>\n",
       "      <td>33</td>\n",
       "      <td>1.99</td>\n",
       "      <td>NA</td>\n",
       "      <td>1612655475</td>\n",
       "    </tr>\n",
       "    <tr>\n",
       "      <th>2</th>\n",
       "      <td>port alfred</td>\n",
       "      <td>-33.5906</td>\n",
       "      <td>26.8910</td>\n",
       "      <td>68.0</td>\n",
       "      <td>89</td>\n",
       "      <td>43</td>\n",
       "      <td>3.00</td>\n",
       "      <td>ZA</td>\n",
       "      <td>1612655422</td>\n",
       "    </tr>\n",
       "    <tr>\n",
       "      <th>3</th>\n",
       "      <td>hilo</td>\n",
       "      <td>19.7297</td>\n",
       "      <td>-155.0900</td>\n",
       "      <td>80.6</td>\n",
       "      <td>41</td>\n",
       "      <td>1</td>\n",
       "      <td>9.22</td>\n",
       "      <td>US</td>\n",
       "      <td>1612655394</td>\n",
       "    </tr>\n",
       "    <tr>\n",
       "      <th>4</th>\n",
       "      <td>souillac</td>\n",
       "      <td>-20.5167</td>\n",
       "      <td>57.5167</td>\n",
       "      <td>77.0</td>\n",
       "      <td>83</td>\n",
       "      <td>20</td>\n",
       "      <td>3.44</td>\n",
       "      <td>MU</td>\n",
       "      <td>1612655476</td>\n",
       "    </tr>\n",
       "  </tbody>\n",
       "</table>\n",
       "</div>"
      ],
      "text/plain": [
       "           City      Lat       Lng  Temp  Humidity  Cloudiness  Wind Country  \\\n",
       "0  ponta do sol  32.6667  -17.1000  54.0        68          11  1.01      PT   \n",
       "1   henties bay -22.1160   14.2845  64.0        89          33  1.99      NA   \n",
       "2   port alfred -33.5906   26.8910  68.0        89          43  3.00      ZA   \n",
       "3          hilo  19.7297 -155.0900  80.6        41           1  9.22      US   \n",
       "4      souillac -20.5167   57.5167  77.0        83          20  3.44      MU   \n",
       "\n",
       "         Date  \n",
       "0  1612655475  \n",
       "1  1612655475  \n",
       "2  1612655422  \n",
       "3  1612655394  \n",
       "4  1612655476  "
      ]
     },
     "execution_count": 9,
     "metadata": {},
     "output_type": "execute_result"
    }
   ],
   "source": [
    "Cities_df = pd.DataFrame(city_data)\n",
    "Cities_df.to_csv(output_data_file) \n",
    "Cities_df.head()\n"
   ]
  },
  {
   "cell_type": "code",
   "execution_count": 10,
   "metadata": {},
   "outputs": [
    {
     "data": {
      "text/html": [
       "<div>\n",
       "<style scoped>\n",
       "    .dataframe tbody tr th:only-of-type {\n",
       "        vertical-align: middle;\n",
       "    }\n",
       "\n",
       "    .dataframe tbody tr th {\n",
       "        vertical-align: top;\n",
       "    }\n",
       "\n",
       "    .dataframe thead th {\n",
       "        text-align: right;\n",
       "    }\n",
       "</style>\n",
       "<table border=\"1\" class=\"dataframe\">\n",
       "  <thead>\n",
       "    <tr style=\"text-align: right;\">\n",
       "      <th></th>\n",
       "      <th>City</th>\n",
       "      <th>Lat</th>\n",
       "      <th>Lng</th>\n",
       "      <th>Temp</th>\n",
       "      <th>Humidity</th>\n",
       "      <th>Cloudiness</th>\n",
       "      <th>Wind</th>\n",
       "      <th>Country</th>\n",
       "      <th>Date</th>\n",
       "    </tr>\n",
       "  </thead>\n",
       "  <tbody>\n",
       "    <tr>\n",
       "      <th>0</th>\n",
       "      <td>ponta do sol</td>\n",
       "      <td>32.6667</td>\n",
       "      <td>-17.1000</td>\n",
       "      <td>54.00</td>\n",
       "      <td>68</td>\n",
       "      <td>11</td>\n",
       "      <td>1.01</td>\n",
       "      <td>PT</td>\n",
       "      <td>1612655475</td>\n",
       "    </tr>\n",
       "    <tr>\n",
       "      <th>1</th>\n",
       "      <td>henties bay</td>\n",
       "      <td>-22.1160</td>\n",
       "      <td>14.2845</td>\n",
       "      <td>64.00</td>\n",
       "      <td>89</td>\n",
       "      <td>33</td>\n",
       "      <td>1.99</td>\n",
       "      <td>NA</td>\n",
       "      <td>1612655475</td>\n",
       "    </tr>\n",
       "    <tr>\n",
       "      <th>2</th>\n",
       "      <td>port alfred</td>\n",
       "      <td>-33.5906</td>\n",
       "      <td>26.8910</td>\n",
       "      <td>68.00</td>\n",
       "      <td>89</td>\n",
       "      <td>43</td>\n",
       "      <td>3.00</td>\n",
       "      <td>ZA</td>\n",
       "      <td>1612655422</td>\n",
       "    </tr>\n",
       "    <tr>\n",
       "      <th>3</th>\n",
       "      <td>hilo</td>\n",
       "      <td>19.7297</td>\n",
       "      <td>-155.0900</td>\n",
       "      <td>80.60</td>\n",
       "      <td>41</td>\n",
       "      <td>1</td>\n",
       "      <td>9.22</td>\n",
       "      <td>US</td>\n",
       "      <td>1612655394</td>\n",
       "    </tr>\n",
       "    <tr>\n",
       "      <th>4</th>\n",
       "      <td>souillac</td>\n",
       "      <td>-20.5167</td>\n",
       "      <td>57.5167</td>\n",
       "      <td>77.00</td>\n",
       "      <td>83</td>\n",
       "      <td>20</td>\n",
       "      <td>3.44</td>\n",
       "      <td>MU</td>\n",
       "      <td>1612655476</td>\n",
       "    </tr>\n",
       "    <tr>\n",
       "      <th>...</th>\n",
       "      <td>...</td>\n",
       "      <td>...</td>\n",
       "      <td>...</td>\n",
       "      <td>...</td>\n",
       "      <td>...</td>\n",
       "      <td>...</td>\n",
       "      <td>...</td>\n",
       "      <td>...</td>\n",
       "      <td>...</td>\n",
       "    </tr>\n",
       "    <tr>\n",
       "      <th>551</th>\n",
       "      <td>benemerito de las americas</td>\n",
       "      <td>16.5167</td>\n",
       "      <td>-90.6439</td>\n",
       "      <td>78.28</td>\n",
       "      <td>69</td>\n",
       "      <td>0</td>\n",
       "      <td>2.57</td>\n",
       "      <td>MX</td>\n",
       "      <td>1612655607</td>\n",
       "    </tr>\n",
       "    <tr>\n",
       "      <th>552</th>\n",
       "      <td>kenai</td>\n",
       "      <td>60.5544</td>\n",
       "      <td>-151.2583</td>\n",
       "      <td>19.00</td>\n",
       "      <td>86</td>\n",
       "      <td>90</td>\n",
       "      <td>8.05</td>\n",
       "      <td>US</td>\n",
       "      <td>1612655607</td>\n",
       "    </tr>\n",
       "    <tr>\n",
       "      <th>553</th>\n",
       "      <td>portobelo</td>\n",
       "      <td>9.5500</td>\n",
       "      <td>-79.6500</td>\n",
       "      <td>82.00</td>\n",
       "      <td>99</td>\n",
       "      <td>96</td>\n",
       "      <td>9.15</td>\n",
       "      <td>PA</td>\n",
       "      <td>1612655607</td>\n",
       "    </tr>\n",
       "    <tr>\n",
       "      <th>554</th>\n",
       "      <td>surt</td>\n",
       "      <td>31.2089</td>\n",
       "      <td>16.5887</td>\n",
       "      <td>66.06</td>\n",
       "      <td>35</td>\n",
       "      <td>20</td>\n",
       "      <td>15.32</td>\n",
       "      <td>LY</td>\n",
       "      <td>1612655608</td>\n",
       "    </tr>\n",
       "    <tr>\n",
       "      <th>555</th>\n",
       "      <td>rorvik</td>\n",
       "      <td>64.8621</td>\n",
       "      <td>11.2373</td>\n",
       "      <td>23.65</td>\n",
       "      <td>92</td>\n",
       "      <td>48</td>\n",
       "      <td>9.10</td>\n",
       "      <td>NO</td>\n",
       "      <td>1612655608</td>\n",
       "    </tr>\n",
       "  </tbody>\n",
       "</table>\n",
       "<p>556 rows × 9 columns</p>\n",
       "</div>"
      ],
      "text/plain": [
       "                           City      Lat       Lng   Temp  Humidity  \\\n",
       "0                  ponta do sol  32.6667  -17.1000  54.00        68   \n",
       "1                   henties bay -22.1160   14.2845  64.00        89   \n",
       "2                   port alfred -33.5906   26.8910  68.00        89   \n",
       "3                          hilo  19.7297 -155.0900  80.60        41   \n",
       "4                      souillac -20.5167   57.5167  77.00        83   \n",
       "..                          ...      ...       ...    ...       ...   \n",
       "551  benemerito de las americas  16.5167  -90.6439  78.28        69   \n",
       "552                       kenai  60.5544 -151.2583  19.00        86   \n",
       "553                   portobelo   9.5500  -79.6500  82.00        99   \n",
       "554                        surt  31.2089   16.5887  66.06        35   \n",
       "555                      rorvik  64.8621   11.2373  23.65        92   \n",
       "\n",
       "     Cloudiness   Wind Country        Date  \n",
       "0            11   1.01      PT  1612655475  \n",
       "1            33   1.99      NA  1612655475  \n",
       "2            43   3.00      ZA  1612655422  \n",
       "3             1   9.22      US  1612655394  \n",
       "4            20   3.44      MU  1612655476  \n",
       "..          ...    ...     ...         ...  \n",
       "551           0   2.57      MX  1612655607  \n",
       "552          90   8.05      US  1612655607  \n",
       "553          96   9.15      PA  1612655607  \n",
       "554          20  15.32      LY  1612655608  \n",
       "555          48   9.10      NO  1612655608  \n",
       "\n",
       "[556 rows x 9 columns]"
      ]
     },
     "execution_count": 10,
     "metadata": {},
     "output_type": "execute_result"
    }
   ],
   "source": [
    "Cities_df"
   ]
  },
  {
   "cell_type": "markdown",
   "metadata": {},
   "source": [
    "## Inspect the data and remove the cities where the humidity > 100%.\n",
    "----\n",
    "Skip this step if there are no cities that have humidity > 100%. "
   ]
  },
  {
   "cell_type": "code",
   "execution_count": null,
   "metadata": {},
   "outputs": [],
   "source": []
  },
  {
   "cell_type": "code",
   "execution_count": 11,
   "metadata": {},
   "outputs": [
    {
     "data": {
      "text/html": [
       "<div>\n",
       "<style scoped>\n",
       "    .dataframe tbody tr th:only-of-type {\n",
       "        vertical-align: middle;\n",
       "    }\n",
       "\n",
       "    .dataframe tbody tr th {\n",
       "        vertical-align: top;\n",
       "    }\n",
       "\n",
       "    .dataframe thead th {\n",
       "        text-align: right;\n",
       "    }\n",
       "</style>\n",
       "<table border=\"1\" class=\"dataframe\">\n",
       "  <thead>\n",
       "    <tr style=\"text-align: right;\">\n",
       "      <th></th>\n",
       "      <th>City</th>\n",
       "      <th>Lat</th>\n",
       "      <th>Lng</th>\n",
       "      <th>Temp</th>\n",
       "      <th>Humidity</th>\n",
       "      <th>Cloudiness</th>\n",
       "      <th>Wind</th>\n",
       "      <th>Country</th>\n",
       "      <th>Date</th>\n",
       "    </tr>\n",
       "  </thead>\n",
       "  <tbody>\n",
       "  </tbody>\n",
       "</table>\n",
       "</div>"
      ],
      "text/plain": [
       "Empty DataFrame\n",
       "Columns: [City, Lat, Lng, Temp, Humidity, Cloudiness, Wind, Country, Date]\n",
       "Index: []"
      ]
     },
     "execution_count": 11,
     "metadata": {},
     "output_type": "execute_result"
    }
   ],
   "source": [
    "#  Get the indices of cities that have humidity over 100%.\n",
    "Humidity_over100= Cities_df[(Cities_df['Humidity']>100)]\n",
    "Humidity_over100"
   ]
  },
  {
   "cell_type": "code",
   "execution_count": 12,
   "metadata": {},
   "outputs": [],
   "source": [
    "# Make a new DataFrame equal to the city data to drop all humidity outliers by index.\n",
    "# Passing \"inplace=False\" will make a copy of the city_data DataFrame, which we call \"clean_city_data\".\n"
   ]
  },
  {
   "cell_type": "code",
   "execution_count": null,
   "metadata": {},
   "outputs": [],
   "source": [
    "\n"
   ]
  },
  {
   "cell_type": "markdown",
   "metadata": {},
   "source": [
    "## Plotting the Data\n",
    "* Use proper labeling of the plots using plot titles (including date of analysis) and axes labels.\n",
    "* Save the plotted figures as .pngs."
   ]
  },
  {
   "cell_type": "markdown",
   "metadata": {},
   "source": [
    "## Latitude vs. Temperature Plot"
   ]
  },
  {
   "cell_type": "code",
   "execution_count": 13,
   "metadata": {
    "scrolled": true
   },
   "outputs": [
    {
     "data": {
      "image/png": "[encoded data removed]",
      "text/plain": [
       "<Figure size 432x288 with 1 Axes>"
      ]
     },
     "metadata": {
      "needs_background": "light"
     },
     "output_type": "display_data"
    }
   ],
   "source": [
    "#Latitute vs Temparature Scatter Plot\n",
    "x_values = [Cities_df['Lat']]\n",
    "y_values = [Cities_df['Temp']]\n",
    "plt.scatter(x_values,y_values, color='red', marker='o')\n",
    "plt.title(\"Latitute vs Temparature Scatter Plot\")\n",
    "plt.xlabel(\"Latitude\")\n",
    "plt.ylabel(\"Temperature\")\n",
    "plt.show()"
   ]
  },
  {
   "cell_type": "markdown",
   "metadata": {},
   "source": [
    "This Chart analyzes the Latitude and Temperature for the cities of the dataframe. The further we move from the Latitude'0' the lower temperature we have (we can clearly see in the graph. It is even more drastic for the north hemisphere) "
   ]
  },
  {
   "cell_type": "markdown",
   "metadata": {},
   "source": [
    "## Latitude vs. Humidity Plot"
   ]
  },
  {
   "cell_type": "code",
   "execution_count": 14,
   "metadata": {},
   "outputs": [
    {
     "data": {
      "image/png": "[encoded data removed]",
      "text/plain": [
       "<Figure size 432x288 with 1 Axes>"
      ]
     },
     "metadata": {
      "needs_background": "light"
     },
     "output_type": "display_data"
    }
   ],
   "source": [
    "#Humidity (%) vs. Latitude Scatter Plot\n",
    "x_values = [Cities_df['Lat']]\n",
    "y_values = [Cities_df['Humidity']]\n",
    "plt.scatter(x_values,y_values, color='blue', marker='o')\n",
    "plt.title(\"Humidity (%) vs. Latitude Scatter Plot\")\n",
    "plt.xlabel(\"Latitude\")\n",
    "plt.ylabel(\"Humidity\")\n",
    "plt.show()"
   ]
  },
  {
   "cell_type": "markdown",
   "metadata": {},
   "source": [
    "This Chart analyzes the Latitude and the Humidity for the cities of the dataframe. It is diffult to come out with a clear result from this plot as the data is highly spread. However, we can observe that the minimum humidity levels belongs to the cities located near to latitude '0'."
   ]
  },
  {
   "cell_type": "markdown",
   "metadata": {},
   "source": [
    "## Latitude vs. Cloudiness Plot"
   ]
  },
  {
   "cell_type": "code",
   "execution_count": 15,
   "metadata": {},
   "outputs": [
    {
     "data": {
      "image/png": "[encoded data removed]",
      "text/plain": [
       "<Figure size 432x288 with 1 Axes>"
      ]
     },
     "metadata": {
      "needs_background": "light"
     },
     "output_type": "display_data"
    }
   ],
   "source": [
    "#Cloudiness (%) vs. Latitude Scatter Plot\n",
    "x_values = [Cities_df['Lat']]\n",
    "y_values = [Cities_df['Cloudiness']]\n",
    "plt.scatter(x_values,y_values, color='black', marker='o')\n",
    "plt.title(\"Cloudiness vs. Latitude Scatter Plot\")\n",
    "plt.xlabel(\"Latitude\")\n",
    "plt.ylabel(\"Cloudiness\")\n",
    "plt.show()"
   ]
  },
  {
   "cell_type": "markdown",
   "metadata": {},
   "source": [
    "This Chart analyzes the Latitude and Cloudiness for the cities of the dataframe. This plots shows that the cloudiness is not affected by the latitude of a city as the cloudiness data is randonly spread around the graph. "
   ]
  },
  {
   "cell_type": "markdown",
   "metadata": {},
   "source": [
    "## Latitude vs. Wind Speed Plot"
   ]
  },
  {
   "cell_type": "code",
   "execution_count": 16,
   "metadata": {},
   "outputs": [
    {
     "data": {
      "image/png": "[encoded data removed]",
      "text/plain": [
       "<Figure size 432x288 with 1 Axes>"
      ]
     },
     "metadata": {
      "needs_background": "light"
     },
     "output_type": "display_data"
    }
   ],
   "source": [
    "#Wind Speed (mph) vs. Latitude Scatter Plot\n",
    "x_values = [Cities_df['Lat']]\n",
    "y_values = [Cities_df['Wind']]\n",
    "plt.scatter(x_values,y_values, color='gray', marker='o')\n",
    "plt.title(\"Wind Speed vs. Latitude Scatter Plot\")\n",
    "plt.xlabel(\"Latitude\")\n",
    "plt.ylabel(\"Wind Speed\")\n",
    "plt.show()"
   ]
  },
  {
   "cell_type": "markdown",
   "metadata": {},
   "source": [
    "This Chart analyzes the Latitude and Wind Speed for the cities of the dataframe. This plot shows that the wind speed of a city is not affected by its latitude as we can observe in the graph. "
   ]
  },
  {
   "cell_type": "markdown",
   "metadata": {},
   "source": [
    "## Linear Regression"
   ]
  },
  {
   "cell_type": "markdown",
   "metadata": {},
   "source": [
    "####  Northern Hemisphere - Max Temp vs. Latitude Linear Regression"
   ]
  },
  {
   "cell_type": "code",
   "execution_count": 12,
   "metadata": {},
   "outputs": [
    {
     "data": {
      "image/png": "[encoded data removed]",
      "text/plain": [
       "<Figure size 432x288 with 1 Axes>"
      ]
     },
     "metadata": {
      "needs_background": "light"
     },
     "output_type": "display_data"
    }
   ],
   "source": [
    "#Northern Hemisphere - Latitute vs Temparature Scatter Plot\n",
    "filter_values = Cities_df[Cities_df['Lat']>0]\n",
    "x_values= filter_values['Lat']\n",
    "y_values = filter_values['Temp']\n",
    "\n",
    "(slope, intercept,rvalue,pvalue,stderr) = linregress(x_values,y_values)\n",
    "regress_values = (x_values * slope) + intercept\n",
    "\n",
    "line_eq = \"y =\" + str(round(slope,2)) + \"x + \" + str(round(intercept,2))\n",
    "plt.plot(x_values,regress_values,\"b-\")\n",
    "plt.annotate(line_eq,(2,1), fontsize=15 , color=\"blue\")\n",
    "\n",
    "plt.scatter(x_values,y_values, color='red', marker='o')\n",
    "plt.title(\"Northern Hemisphere - Latitute vs Temparature Scatter Plot\")\n",
    "plt.xlabel(\"Latitude\")\n",
    "plt.ylabel(\"Temperature\")\n",
    "plt.show()"
   ]
  },
  {
   "cell_type": "markdown",
   "metadata": {},
   "source": [
    "This graph represents the Northern Hemisphere - Max Temp vs. Latitude. It shows a negative correlation between the latitude and the temperature. This means that the higher are the latitude values, the lower temperature we will obtain. "
   ]
  },
  {
   "cell_type": "markdown",
   "metadata": {},
   "source": [
    "####  Southern Hemisphere - Max Temp vs. Latitude Linear Regression"
   ]
  },
  {
   "cell_type": "code",
   "execution_count": 17,
   "metadata": {},
   "outputs": [
    {
     "name": "stdout",
     "output_type": "stream",
     "text": [
      "y =0.3x + 80.17\n"
     ]
    },
    {
     "data": {
      "image/png": "[encoded data removed]",
      "text/plain": [
       "<Figure size 432x288 with 1 Axes>"
      ]
     },
     "metadata": {
      "needs_background": "light"
     },
     "output_type": "display_data"
    }
   ],
   "source": [
    "#Southern Hemisphere - Latitute vs Temparature Scatter Plot\n",
    "filter_values = Cities_df[Cities_df['Lat']<0]\n",
    "x_values= filter_values['Lat']\n",
    "y_values = filter_values['Temp']\n",
    "\n",
    "(slope, intercept,rvalue,pvalue,stderr) = linregress(x_values,y_values)\n",
    "regress_values = (x_values * slope) + intercept\n",
    "line_eq = \"y =\" + str(round(slope,2)) + \"x + \" + str(round(intercept,2))\n",
    "print(line_eq)\n",
    "plt.plot(x_values,regress_values,\"b-\")\n",
    "plt.annotate(line_eq,(2,1), fontsize=15 , color=\"red\")\n",
    "\n",
    "plt.scatter(x_values,y_values, color='red', marker='o')\n",
    "plt.title(\"Southern Hemisphere - Latitute vs Temparature Scatter Plot\")\n",
    "plt.xlabel(\"Latitude\")\n",
    "plt.ylabel(\"Temperature\")\n",
    "plt.show()"
   ]
  },
  {
   "cell_type": "markdown",
   "metadata": {},
   "source": [
    "This graph represents the Soutthern Hemisphere - Max Temp vs. Latitude. It shows a moderate positive correlation between the latitude and the temperature. This means that the higher latitude values, the higher temperature values we will obtain."
   ]
  },
  {
   "cell_type": "markdown",
   "metadata": {},
   "source": [
    "####  Northern Hemisphere - Humidity (%) vs. Latitude Linear Regression"
   ]
  },
  {
   "cell_type": "code",
   "execution_count": 18,
   "metadata": {},
   "outputs": [
    {
     "name": "stdout",
     "output_type": "stream",
     "text": [
      "y =0.23x + 64.55\n"
     ]
    },
    {
     "data": {
      "image/png": "[encoded data removed]",
      "text/plain": [
       "<Figure size 432x288 with 1 Axes>"
      ]
     },
     "metadata": {
      "needs_background": "light"
     },
     "output_type": "display_data"
    }
   ],
   "source": [
    "#Northern Hemisphere Humidity (%) vs. Latitude Scatter Plot\n",
    "filter_values = Cities_df[Cities_df['Lat']>0]\n",
    "x_values= filter_values['Lat']\n",
    "y_values = filter_values['Humidity']\n",
    "\n",
    "(slope, intercept,rvalue,pvalue,stderr) = linregress(x_values,y_values)\n",
    "regress_values = (x_values * slope) + intercept\n",
    "line_eq = \"y =\" + str(round(slope,2)) + \"x + \" + str(round(intercept,2))\n",
    "print(line_eq)\n",
    "plt.plot(x_values,regress_values,\"r-\")\n",
    "plt.annotate(line_eq,(2,1), fontsize=15 , color=\"red\")\n",
    "\n",
    "\n",
    "plt.scatter(x_values,y_values, color='blue', marker='o')\n",
    "plt.title(\"Northern Hemisphere Humidity (%) vs. Latitude Scatter Plot\")\n",
    "plt.xlabel(\"Latitude\")\n",
    "plt.ylabel(\"Humidity\")\n",
    "plt.show()"
   ]
  },
  {
   "cell_type": "markdown",
   "metadata": {},
   "source": [
    "This graph represents the Northern Hemisphere - Humidity vs. Latitude. the graph does not show a clear correlation because the data is highly spread around the graph. However, we can see a positive linear regression. "
   ]
  },
  {
   "cell_type": "markdown",
   "metadata": {},
   "source": [
    "####  Southern Hemisphere - Humidity (%) vs. Latitude Linear Regression"
   ]
  },
  {
   "cell_type": "code",
   "execution_count": 15,
   "metadata": {},
   "outputs": [
    {
     "name": "stdout",
     "output_type": "stream",
     "text": [
      "y =0.39x + 85.9\n"
     ]
    },
    {
     "data": {
      "image/png": "[encoded data removed]",
      "text/plain": [
       "<Figure size 432x288 with 1 Axes>"
      ]
     },
     "metadata": {
      "needs_background": "light"
     },
     "output_type": "display_data"
    }
   ],
   "source": [
    "#Southern Hemisphere Humidity (%) vs. Latitude Scatter Plot\n",
    "filter_values = Cities_df[Cities_df['Lat']<0]\n",
    "x_values= filter_values['Lat']\n",
    "y_values = filter_values['Humidity']\n",
    "\n",
    "(slope, intercept,rvalue,pvalue,stderr) = linregress(x_values,y_values)\n",
    "regress_values = (x_values * slope) + intercept\n",
    "line_eq = \"y =\" + str(round(slope,2)) + \"x + \" + str(round(intercept,2))\n",
    "print(line_eq)\n",
    "plt.plot(x_values,regress_values,\"r-\")\n",
    "plt.annotate(line_eq,(2,1), fontsize=15 , color=\"red\")\n",
    "\n",
    "\n",
    "plt.scatter(x_values,y_values, color='blue', marker='o')\n",
    "plt.title(\"Southern Hemisphere Humidity (%) vs. Latitude Scatter Plot\")\n",
    "plt.xlabel(\"Latitude\")\n",
    "plt.ylabel(\"Humidity\")\n",
    "plt.show()"
   ]
  },
  {
   "cell_type": "markdown",
   "metadata": {},
   "source": [
    "This graph represents the Soutthern Hemisphere - Humidity vs. Latitude. It shows a moderate positive correlation between the humidity and the temperature. This means that the higherlatitude values, the higher temperature values we will also obtain."
   ]
  },
  {
   "cell_type": "markdown",
   "metadata": {},
   "source": [
    "####  Northern Hemisphere - Cloudiness (%) vs. Latitude Linear Regression"
   ]
  },
  {
   "cell_type": "code",
   "execution_count": 19,
   "metadata": {},
   "outputs": [
    {
     "name": "stdout",
     "output_type": "stream",
     "text": [
      "y =0.39x + 29.36\n"
     ]
    },
    {
     "data": {
      "image/png": "[encoded data removed]",
      "text/plain": [
       "<Figure size 432x288 with 1 Axes>"
      ]
     },
     "metadata": {
      "needs_background": "light"
     },
     "output_type": "display_data"
    }
   ],
   "source": [
    "#Northern Hemisphere - Cloudiness (%) vs. Latitude Linear Regression\n",
    "filter_values = Cities_df[Cities_df['Lat']>0]\n",
    "x_values= filter_values['Lat']\n",
    "y_values = filter_values['Cloudiness']\n",
    "\n",
    "(slope, intercept,rvalue,pvalue,stderr) = linregress(x_values,y_values)\n",
    "regress_values = (x_values * slope) + intercept\n",
    "line_eq = \"y =\" + str(round(slope,2)) + \"x + \" + str(round(intercept,2))\n",
    "print(line_eq)\n",
    "plt.plot(x_values,regress_values,\"r-\")\n",
    "plt.annotate(line_eq,(2,1), fontsize=15 , color=\"red\")\n",
    "\n",
    "\n",
    "plt.scatter(x_values,y_values, color='black', marker='o')\n",
    "plt.title(\"Northern Hemisphere - Cloudiness (%) vs. Latitude \")\n",
    "plt.xlabel(\"Latitude\")\n",
    "plt.ylabel(\"Cloudiness\")\n",
    "plt.show()"
   ]
  },
  {
   "cell_type": "markdown",
   "metadata": {},
   "source": [
    "This graph represents the Northern Hemisphere - Max Cloudiness vs. Latitude. Data is spread all over the graph so it dies not show any relationship between the two variables. "
   ]
  },
  {
   "cell_type": "markdown",
   "metadata": {},
   "source": [
    "####  Southern Hemisphere - Cloudiness (%) vs. Latitude Linear Regression"
   ]
  },
  {
   "cell_type": "code",
   "execution_count": 21,
   "metadata": {},
   "outputs": [
    {
     "name": "stdout",
     "output_type": "stream",
     "text": [
      "y =1.21x + 76.95\n"
     ]
    },
    {
     "data": {
      "image/png": "[encoded data removed]",
      "text/plain": [
       "<Figure size 432x288 with 1 Axes>"
      ]
     },
     "metadata": {
      "needs_background": "light"
     },
     "output_type": "display_data"
    }
   ],
   "source": [
    "#Shouthern Hemisphere Cloudiness (%) vs. Latitude Scatter Plot\n",
    "filter_values = Cities_df[Cities_df['Lat']<0]\n",
    "x_values= filter_values['Lat']\n",
    "y_values = filter_values['Cloudiness']\n",
    "\n",
    "(slope, intercept,rvalue,pvalue,stderr) = linregress(x_values,y_values)\n",
    "regress_values = (x_values * slope) + intercept\n",
    "line_eq = \"y =\" + str(round(slope,2)) + \"x + \" + str(round(intercept,2))\n",
    "print(line_eq)\n",
    "plt.plot(x_values,regress_values,\"r-\")\n",
    "plt.annotate(line_eq,(2,1), fontsize=15 , color=\"red\")\n",
    "\n",
    "plt.scatter(x_values,y_values, color='black', marker='o')\n",
    "plt.title(\"Shouthern Hemisphere Cloudiness (%) vs. Latitude Scatter Plot\")\n",
    "plt.xlabel(\"Latitude\")\n",
    "plt.ylabel(\"Cloudiness\")\n",
    "plt.show()"
   ]
  },
  {
   "cell_type": "markdown",
   "metadata": {},
   "source": [
    "This graph represents the Soutthern Hemisphere - Max Cloudiness vs. Latitude. It is difficult to find a clear correlation between these two variables by following the graph. Cloudiness is very spread around the graph. However, it is important to mention that the linear regresion has a positive correlation. "
   ]
  },
  {
   "cell_type": "markdown",
   "metadata": {},
   "source": [
    "####  Northern Hemisphere - Wind Speed (mph) vs. Latitude Linear Regression"
   ]
  },
  {
   "cell_type": "code",
   "execution_count": 22,
   "metadata": {},
   "outputs": [
    {
     "name": "stdout",
     "output_type": "stream",
     "text": [
      "y =0.05x + 6.77\n"
     ]
    },
    {
     "data": {
      "image/png": "[encoded data removed]",
      "text/plain": [
       "<Figure size 432x288 with 1 Axes>"
      ]
     },
     "metadata": {
      "needs_background": "light"
     },
     "output_type": "display_data"
    }
   ],
   "source": [
    "#Northern Hemisphere - Wind Speed (mph) vs. Latitude Linear Regressio\n",
    "filter_values = Cities_df[Cities_df['Lat']>0]\n",
    "x_values= filter_values['Lat']\n",
    "y_values = filter_values['Wind']\n",
    "\n",
    "(slope, intercept,rvalue,pvalue,stderr) = linregress(x_values,y_values)\n",
    "regress_values = (x_values * slope) + intercept\n",
    "line_eq = \"y =\" + str(round(slope,2)) + \"x + \" + str(round(intercept,2))\n",
    "print(line_eq)\n",
    "plt.plot(x_values,regress_values,\"r-\")\n",
    "plt.annotate(line_eq,(2,1), fontsize=15 , color=\"red\")\n",
    "\n",
    "plt.scatter(x_values,y_values, color='gray', marker='o')\n",
    "plt.title(\"Northern Hemisphere - Wind Speed (mph) vs. Latitude \")\n",
    "plt.xlabel(\"Latitude\")\n",
    "plt.ylabel(\"Wind Speed\")\n",
    "plt.show()"
   ]
  },
  {
   "cell_type": "markdown",
   "metadata": {},
   "source": [
    "This graph represents the Northern Hemisphere - Wind Speed vs. Latitude. Data does not refelct any clear correlation between the wind speed and the latitude. "
   ]
  },
  {
   "cell_type": "markdown",
   "metadata": {},
   "source": [
    "####  Southern Hemisphere - Wind Speed (mph) vs. Latitude Linear Regression"
   ]
  },
  {
   "cell_type": "code",
   "execution_count": 19,
   "metadata": {},
   "outputs": [
    {
     "name": "stdout",
     "output_type": "stream",
     "text": [
      "y =-0.12x + 4.44\n"
     ]
    },
    {
     "data": {
      "image/png": "[encoded data removed]",
      "text/plain": [
       "<Figure size 432x288 with 1 Axes>"
      ]
     },
     "metadata": {
      "needs_background": "light"
     },
     "output_type": "display_data"
    }
   ],
   "source": [
    "#Southern Hemisphere - Wind Speed (mph) vs. Latitude Linear Regressio\n",
    "filter_values = Cities_df[Cities_df['Lat']<0]\n",
    "x_values= filter_values['Lat']\n",
    "y_values = filter_values['Wind']\n",
    "\n",
    "(slope, intercept,rvalue,pvalue,stderr) = linregress(x_values,y_values)\n",
    "regress_values = (x_values * slope) + intercept\n",
    "line_eq = \"y =\" + str(round(slope,2)) + \"x + \" + str(round(intercept,2))\n",
    "print(line_eq)\n",
    "plt.plot(x_values,regress_values,\"r-\")\n",
    "plt.annotate(line_eq,(2,1), fontsize=15 , color=\"red\")\n",
    "\n",
    "plt.scatter(x_values,y_values, color='gray', marker='o')\n",
    "plt.title(\"Southern Hemisphere - Wind Speed (mph) vs. Latitude \")\n",
    "plt.xlabel(\"Latitude\")\n",
    "plt.ylabel(\"Wind Speed\")\n",
    "plt.show()"
   ]
  },
  {
   "cell_type": "markdown",
   "metadata": {},
   "source": [
    "This graph represents the Southern Hemisphere - Wind Speed vs Latitude. Plot shows a moderate negative correlation between the latitude and the wind speed. The higher the latitude , the lower wind speed. However the correlation is very light as we can also some data disperse over the graph. "
   ]
  },
  {
   "cell_type": "code",
   "execution_count": null,
   "metadata": {},
   "outputs": [],
   "source": []
  }
 ],
 "metadata": {
  "anaconda-cloud": {},
  "kernel_info": {
   "name": "python3"
  },
  "kernelspec": {
   "display_name": "PhytonData",
   "language": "python",
   "name": "phytondata"
  },
  "language_info": {
   "codemirror_mode": {
    "name": "ipython",
    "version": 3
   },
   "file_extension": ".py",
   "mimetype": "text/x-python",
   "name": "python",
   "nbconvert_exporter": "python",
   "pygments_lexer": "ipython3",
   "version": "3.6.12"
  },
  "latex_envs": {
   "LaTeX_envs_menu_present": true,
   "autoclose": false,
   "autocomplete": true,
   "bibliofile": "biblio.bib",
   "cite_by": "apalike",
   "current_citInitial": 1,
   "eqLabelWithNumbers": true,
   "eqNumInitial": 1,
   "hotkeys": {
    "equation": "Ctrl-E",
    "itemize": "Ctrl-I"
   },
   "labels_anchors": false,
   "latex_user_defs": false,
   "report_style_numbering": false,
   "user_envs_cfg": false
  },
  "nteract": {
   "version": "0.12.3"
  }
 },
 "nbformat": 4,
 "nbformat_minor": 2
}
