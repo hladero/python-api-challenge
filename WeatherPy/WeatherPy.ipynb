{
 "cells": [
  {
   "cell_type": "markdown",
   "metadata": {},
   "source": [
    "# WeatherPy\n",
    "----\n",
    "\n",
    "#### Note\n",
    "* Instructions have been included for each segment. You do not have to follow them exactly, but they are included to help you think through the steps."
   ]
  },
  {
   "cell_type": "code",
   "execution_count": 1,
   "metadata": {
    "scrolled": true
   },
   "outputs": [],
   "source": [
    "# Dependencies and Setup\n",
    "import matplotlib.pyplot as plt\n",
    "import pandas as pd\n",
    "import numpy as np\n",
    "import requests\n",
    "import time\n",
    "import scipy.stats as st\n",
    "from scipy.stats import linregress\n",
    "\n",
    "# Import API key\n",
    "from api_keys import weather_api_key\n",
    "\n",
    "# Incorporated citipy to determine city based on latitude and longitude\n",
    "from citipy import citipy\n",
    "\n",
    "# Output File (CSV)\n",
    "output_data_file = \"output_data/cities.csv\"\n",
    "\n",
    "# Range of latitudes and longitudes\n",
    "lat_range = (-90, 90)\n",
    "lng_range = (-180, 180)"
   ]
  },
  {
   "cell_type": "markdown",
   "metadata": {},
   "source": [
    "## Generate Cities List"
   ]
  },
  {
   "cell_type": "code",
   "execution_count": 2,
   "metadata": {},
   "outputs": [
    {
     "data": {
      "text/plain": [
       "614"
      ]
     },
     "execution_count": 2,
     "metadata": {},
     "output_type": "execute_result"
    }
   ],
   "source": [
    "# List for holding lat_lngs and cities\n",
    "lat_lngs = []\n",
    "cities = []\n",
    "\n",
    "# Create a set of random lat and lng combinations\n",
    "lats = np.random.uniform(lat_range[0], lat_range[1], size=1500)\n",
    "lngs = np.random.uniform(lng_range[0], lng_range[1], size=1500)\n",
    "lat_lngs = zip(lats, lngs)\n",
    "\n",
    "# Identify nearest city for each lat, lng combination\n",
    "for lat_lng in lat_lngs:\n",
    "    city = citipy.nearest_city(lat_lng[0], lat_lng[1]).city_name\n",
    "    \n",
    "    # If the city is unique, then add it to a our cities list\n",
    "    if city not in cities:\n",
    "        cities.append(city)\n",
    "\n",
    "# Print the city count to confirm sufficient count\n",
    "len(cities)"
   ]
  },
  {
   "cell_type": "markdown",
   "metadata": {},
   "source": [
    "### Perform API Calls\n",
    "* Perform a weather check on each city using a series of successive API calls.\n",
    "* Include a print log of each city as it'sbeing processed (with the city number and city name).\n"
   ]
  },
  {
   "cell_type": "code",
   "execution_count": 3,
   "metadata": {},
   "outputs": [
    {
     "name": "stdout",
     "output_type": "stream",
     "text": [
      "\n",
      "Beginning Data Retrieval\n",
      "-----------------------------\n",
      "\n",
      "Processing Record 1 of Set 1 | vaini\n",
      "Processing Record 2 of Set 1 | rikitea\n",
      "Processing Record 3 of Set 1 | taolanaro\n",
      "City not found. Skipping...\n",
      "Processing Record 4 of Set 1 | mahebourg\n",
      "Processing Record 5 of Set 1 | saldanha\n",
      "Processing Record 6 of Set 1 | poum\n",
      "Processing Record 7 of Set 1 | hilo\n",
      "Processing Record 8 of Set 1 | angoche\n",
      "Processing Record 9 of Set 1 | saint-pierre\n",
      "Processing Record 10 of Set 1 | spring valley\n",
      "Processing Record 11 of Set 1 | carmo do paranaiba\n",
      "Processing Record 12 of Set 1 | busselton\n",
      "Processing Record 13 of Set 1 | orlik\n",
      "Processing Record 14 of Set 1 | sanchor\n",
      "Processing Record 15 of Set 1 | pitimbu\n",
      "Processing Record 16 of Set 1 | ushuaia\n",
      "Processing Record 17 of Set 1 | carnarvon\n",
      "Processing Record 18 of Set 1 | georgetown\n",
      "Processing Record 19 of Set 1 | cape town\n",
      "Processing Record 20 of Set 1 | santa cruz\n",
      "Processing Record 21 of Set 1 | boa vista\n",
      "Processing Record 22 of Set 1 | cortez\n",
      "Processing Record 23 of Set 1 | ilulissat\n",
      "Processing Record 24 of Set 1 | avera\n",
      "Processing Record 25 of Set 1 | idah\n",
      "Processing Record 26 of Set 1 | khovu-aksy\n",
      "Processing Record 27 of Set 1 | arraial do cabo\n",
      "Processing Record 28 of Set 1 | provideniya\n",
      "Processing Record 29 of Set 1 | port alfred\n",
      "Processing Record 30 of Set 1 | dolores\n",
      "Processing Record 31 of Set 1 | maragogi\n",
      "Processing Record 32 of Set 1 | umzimvubu\n",
      "City not found. Skipping...\n",
      "Processing Record 33 of Set 1 | castro\n",
      "Processing Record 34 of Set 1 | kropotkin\n",
      "Processing Record 35 of Set 1 | daxian\n",
      "City not found. Skipping...\n",
      "Processing Record 36 of Set 1 | mergui\n",
      "City not found. Skipping...\n",
      "Processing Record 37 of Set 1 | richards bay\n",
      "Processing Record 38 of Set 1 | mandali\n",
      "Processing Record 39 of Set 1 | mataura\n",
      "Processing Record 40 of Set 1 | qaanaaq\n",
      "Processing Record 41 of Set 1 | narsaq\n",
      "Processing Record 42 of Set 1 | vila velha\n",
      "Processing Record 43 of Set 1 | fort nelson\n",
      "Processing Record 44 of Set 1 | bengkulu\n",
      "Processing Record 45 of Set 1 | san patricio\n",
      "Processing Record 46 of Set 1 | mehamn\n",
      "Processing Record 47 of Set 1 | puerto maldonado\n",
      "Processing Record 48 of Set 1 | khatanga\n",
      "Processing Record 49 of Set 1 | broome\n",
      "Processing Record 50 of Set 1 | bredasdorp\n",
      "Processing Record 1 of Set 2 | jamestown\n",
      "Processing Record 2 of Set 2 | hermanus\n",
      "Processing Record 3 of Set 2 | suba\n",
      "Processing Record 4 of Set 2 | chuy\n",
      "Processing Record 5 of Set 2 | madaoua\n",
      "Processing Record 6 of Set 2 | nikolskoye\n",
      "Processing Record 7 of Set 2 | road town\n",
      "Processing Record 8 of Set 2 | xifeng\n",
      "Processing Record 9 of Set 2 | ribeira grande\n",
      "Processing Record 10 of Set 2 | karabulak\n",
      "Processing Record 11 of Set 2 | new norfolk\n",
      "Processing Record 12 of Set 2 | constitucion\n",
      "Processing Record 13 of Set 2 | ancud\n",
      "Processing Record 14 of Set 2 | saleaula\n",
      "City not found. Skipping...\n",
      "Processing Record 15 of Set 2 | payson\n",
      "Processing Record 16 of Set 2 | east london\n",
      "Processing Record 17 of Set 2 | nador\n",
      "Processing Record 18 of Set 2 | hithadhoo\n",
      "Processing Record 19 of Set 2 | pevek\n",
      "Processing Record 20 of Set 2 | geraldton\n",
      "Processing Record 21 of Set 2 | kodiak\n",
      "Processing Record 22 of Set 2 | albany\n",
      "Processing Record 23 of Set 2 | vaitupu\n",
      "City not found. Skipping...\n",
      "Processing Record 24 of Set 2 | barentu\n",
      "Processing Record 25 of Set 2 | sentyabrskiy\n",
      "City not found. Skipping...\n",
      "Processing Record 26 of Set 2 | bloomingdale\n",
      "Processing Record 27 of Set 2 | cayenne\n",
      "Processing Record 28 of Set 2 | atuona\n",
      "Processing Record 29 of Set 2 | puerto ayora\n",
      "Processing Record 30 of Set 2 | tsihombe\n",
      "City not found. Skipping...\n",
      "Processing Record 31 of Set 2 | igualada\n",
      "Processing Record 32 of Set 2 | tasiilaq\n",
      "Processing Record 33 of Set 2 | northam\n",
      "Processing Record 34 of Set 2 | praia da vitoria\n",
      "Processing Record 35 of Set 2 | lerik\n",
      "Processing Record 36 of Set 2 | terney\n",
      "Processing Record 37 of Set 2 | dobryanka\n",
      "Processing Record 38 of Set 2 | ponta do sol\n",
      "Processing Record 39 of Set 2 | quebrangulo\n",
      "Processing Record 40 of Set 2 | bluff\n",
      "Processing Record 41 of Set 2 | kahului\n",
      "Processing Record 42 of Set 2 | punta arenas\n",
      "Processing Record 43 of Set 2 | dukat\n",
      "Processing Record 44 of Set 2 | torbay\n",
      "Processing Record 45 of Set 2 | thinadhoo\n",
      "Processing Record 46 of Set 2 | havoysund\n",
      "Processing Record 47 of Set 2 | aksu\n",
      "Processing Record 48 of Set 2 | pachino\n",
      "Processing Record 49 of Set 2 | markala\n",
      "Processing Record 50 of Set 2 | lebu\n",
      "Processing Record 1 of Set 3 | mys shmidta\n",
      "City not found. Skipping...\n",
      "Processing Record 2 of Set 3 | leningradskiy\n",
      "Processing Record 3 of Set 3 | sao filipe\n",
      "Processing Record 4 of Set 3 | sena madureira\n",
      "Processing Record 5 of Set 3 | north bend\n",
      "Processing Record 6 of Set 3 | abiy adi\n",
      "City not found. Skipping...\n",
      "Processing Record 7 of Set 3 | vila franca do campo\n",
      "Processing Record 8 of Set 3 | nizhneyansk\n",
      "City not found. Skipping...\n",
      "Processing Record 9 of Set 3 | amderma\n",
      "City not found. Skipping...\n",
      "Processing Record 10 of Set 3 | arecibo\n",
      "Processing Record 11 of Set 3 | kaitangata\n",
      "Processing Record 12 of Set 3 | taltal\n",
      "Processing Record 13 of Set 3 | arlit\n",
      "Processing Record 14 of Set 3 | krasnoborsk\n",
      "Processing Record 15 of Set 3 | saint george\n",
      "Processing Record 16 of Set 3 | barrow\n",
      "Processing Record 17 of Set 3 | tuktoyaktuk\n",
      "Processing Record 18 of Set 3 | buzmeyin\n",
      "Processing Record 19 of Set 3 | gizo\n",
      "Processing Record 20 of Set 3 | pyu\n",
      "Processing Record 21 of Set 3 | pasinler\n",
      "Processing Record 22 of Set 3 | fortuna\n",
      "Processing Record 23 of Set 3 | sungaipenuh\n",
      "Processing Record 24 of Set 3 | nouadhibou\n",
      "Processing Record 25 of Set 3 | zlatoustovsk\n",
      "City not found. Skipping...\n",
      "Processing Record 26 of Set 3 | butaritari\n",
      "Processing Record 27 of Set 3 | malgobek\n",
      "Processing Record 28 of Set 3 | namibe\n",
      "Processing Record 29 of Set 3 | lavrentiya\n",
      "Processing Record 30 of Set 3 | hayden\n",
      "Processing Record 31 of Set 3 | nanortalik\n",
      "Processing Record 32 of Set 3 | portland\n",
      "Processing Record 33 of Set 3 | domoni\n",
      "Processing Record 34 of Set 3 | saint-philippe\n",
      "Processing Record 35 of Set 3 | ixtapa\n",
      "Processing Record 36 of Set 3 | cherskiy\n",
      "Processing Record 37 of Set 3 | pascagoula\n",
      "Processing Record 38 of Set 3 | tubod\n",
      "Processing Record 39 of Set 3 | yellowknife\n",
      "Processing Record 40 of Set 3 | klaksvik\n",
      "Processing Record 41 of Set 3 | luwuk\n",
      "Processing Record 42 of Set 3 | westport\n",
      "Processing Record 43 of Set 3 | benguela\n",
      "Processing Record 44 of Set 3 | vao\n",
      "Processing Record 45 of Set 3 | pasni\n",
      "Processing Record 46 of Set 3 | souillac\n",
      "Processing Record 47 of Set 3 | roma\n",
      "Processing Record 48 of Set 3 | lata\n",
      "Processing Record 49 of Set 3 | kavieng\n",
      "Processing Record 50 of Set 3 | tigil\n",
      "Processing Record 1 of Set 4 | sompeta\n",
      "Processing Record 2 of Set 4 | velasco ibarra\n",
      "Processing Record 3 of Set 4 | formosa do rio preto\n",
      "Processing Record 4 of Set 4 | port elizabeth\n",
      "Processing Record 5 of Set 4 | vardo\n",
      "Processing Record 6 of Set 4 | moose factory\n",
      "Processing Record 7 of Set 4 | hobart\n",
      "Processing Record 8 of Set 4 | mbanza-ngungu\n",
      "Processing Record 9 of Set 4 | bolungarvik\n",
      "City not found. Skipping...\n",
      "Processing Record 10 of Set 4 | kapaa\n",
      "Processing Record 11 of Set 4 | mar del plata\n",
      "Processing Record 12 of Set 4 | cedar rapids\n",
      "Processing Record 13 of Set 4 | ahipara\n",
      "Processing Record 14 of Set 4 | kaeo\n",
      "Processing Record 15 of Set 4 | chinhoyi\n",
      "Processing Record 16 of Set 4 | san pedro\n",
      "Processing Record 17 of Set 4 | genc\n",
      "Processing Record 18 of Set 4 | polunochnoye\n",
      "Processing Record 19 of Set 4 | beni suef\n",
      "Processing Record 20 of Set 4 | thompson\n",
      "Processing Record 21 of Set 4 | hobyo\n",
      "Processing Record 22 of Set 4 | tiksi\n",
      "Processing Record 23 of Set 4 | grand river south east\n",
      "City not found. Skipping...\n",
      "Processing Record 24 of Set 4 | atar\n",
      "Processing Record 25 of Set 4 | husavik\n",
      "Processing Record 26 of Set 4 | oistins\n",
      "Processing Record 27 of Set 4 | state college\n",
      "Processing Record 28 of Set 4 | airai\n",
      "Processing Record 29 of Set 4 | little current\n",
      "Processing Record 30 of Set 4 | acapulco\n",
      "Processing Record 31 of Set 4 | maceio\n",
      "Processing Record 32 of Set 4 | bosaso\n",
      "Processing Record 33 of Set 4 | saint-augustin\n",
      "Processing Record 34 of Set 4 | gravdal\n",
      "Processing Record 35 of Set 4 | jacmel\n",
      "Processing Record 36 of Set 4 | kieta\n",
      "Processing Record 37 of Set 4 | victoria\n"
     ]
    },
    {
     "name": "stdout",
     "output_type": "stream",
     "text": [
      "Processing Record 38 of Set 4 | longyearbyen\n",
      "Processing Record 39 of Set 4 | iqaluit\n",
      "Processing Record 40 of Set 4 | sitka\n",
      "Processing Record 41 of Set 4 | talnakh\n",
      "Processing Record 42 of Set 4 | buraydah\n",
      "Processing Record 43 of Set 4 | tigzirt\n",
      "Processing Record 44 of Set 4 | pahrump\n",
      "Processing Record 45 of Set 4 | illoqqortoormiut\n",
      "City not found. Skipping...\n",
      "Processing Record 46 of Set 4 | tidore\n",
      "City not found. Skipping...\n",
      "Processing Record 47 of Set 4 | luderitz\n",
      "Processing Record 48 of Set 4 | pingliang\n",
      "Processing Record 49 of Set 4 | avarua\n",
      "Processing Record 50 of Set 4 | lethem\n",
      "Processing Record 1 of Set 5 | coquimbo\n",
      "Processing Record 2 of Set 5 | smolino\n",
      "Processing Record 3 of Set 5 | warmbad\n",
      "Processing Record 4 of Set 5 | alofi\n",
      "Processing Record 5 of Set 5 | aykhal\n",
      "Processing Record 6 of Set 5 | aflu\n",
      "City not found. Skipping...\n",
      "Processing Record 7 of Set 5 | goderich\n",
      "Processing Record 8 of Set 5 | severo-kurilsk\n",
      "Processing Record 9 of Set 5 | saint anthony\n",
      "Processing Record 10 of Set 5 | cache creek\n",
      "Processing Record 11 of Set 5 | cabedelo\n",
      "Processing Record 12 of Set 5 | acari\n",
      "Processing Record 13 of Set 5 | havre-saint-pierre\n",
      "Processing Record 14 of Set 5 | bathsheba\n",
      "Processing Record 15 of Set 5 | faanui\n",
      "Processing Record 16 of Set 5 | sucua\n",
      "Processing Record 17 of Set 5 | parana\n",
      "Processing Record 18 of Set 5 | maniitsoq\n",
      "Processing Record 19 of Set 5 | chicama\n",
      "Processing Record 20 of Set 5 | anadyr\n",
      "Processing Record 21 of Set 5 | hasaki\n",
      "Processing Record 22 of Set 5 | codrington\n",
      "Processing Record 23 of Set 5 | melfi\n",
      "Processing Record 24 of Set 5 | samalaeulu\n",
      "City not found. Skipping...\n",
      "Processing Record 25 of Set 5 | pimentel\n",
      "Processing Record 26 of Set 5 | ahuimanu\n",
      "Processing Record 27 of Set 5 | nara\n",
      "Processing Record 28 of Set 5 | lompoc\n",
      "Processing Record 29 of Set 5 | ostrovnoy\n",
      "Processing Record 30 of Set 5 | clyde river\n",
      "Processing Record 31 of Set 5 | rocha\n",
      "Processing Record 32 of Set 5 | olafsvik\n",
      "Processing Record 33 of Set 5 | samarai\n",
      "Processing Record 34 of Set 5 | armeria\n",
      "Processing Record 35 of Set 5 | jacareacanga\n",
      "Processing Record 36 of Set 5 | kolokani\n",
      "Processing Record 37 of Set 5 | hamilton\n",
      "Processing Record 38 of Set 5 | magadan\n",
      "Processing Record 39 of Set 5 | chokurdakh\n",
      "Processing Record 40 of Set 5 | quang ngai\n",
      "Processing Record 41 of Set 5 | cidreira\n",
      "Processing Record 42 of Set 5 | san felipe\n",
      "Processing Record 43 of Set 5 | iberia\n",
      "Processing Record 44 of Set 5 | kavaratti\n",
      "Processing Record 45 of Set 5 | isangel\n",
      "Processing Record 46 of Set 5 | ituni\n",
      "City not found. Skipping...\n",
      "Processing Record 47 of Set 5 | albania\n",
      "Processing Record 48 of Set 5 | iquitos\n",
      "Processing Record 49 of Set 5 | kharp\n",
      "Processing Record 50 of Set 5 | kawana waters\n",
      "City not found. Skipping...\n",
      "Processing Record 1 of Set 6 | salalah\n",
      "Processing Record 2 of Set 6 | bushenyi\n",
      "Processing Record 3 of Set 6 | muros\n",
      "Processing Record 4 of Set 6 | lulea\n",
      "Processing Record 5 of Set 6 | esmeraldas\n",
      "Processing Record 6 of Set 6 | surt\n",
      "Processing Record 7 of Set 6 | tallahassee\n",
      "Processing Record 8 of Set 6 | iralaya\n",
      "Processing Record 9 of Set 6 | meadow lake\n",
      "Processing Record 10 of Set 6 | puerto berrio\n",
      "Processing Record 11 of Set 6 | urucara\n",
      "Processing Record 12 of Set 6 | borogontsy\n",
      "Processing Record 13 of Set 6 | half moon bay\n",
      "Processing Record 14 of Set 6 | burdur\n",
      "Processing Record 15 of Set 6 | grindavik\n",
      "Processing Record 16 of Set 6 | humberto de campos\n",
      "Processing Record 17 of Set 6 | berlevag\n",
      "Processing Record 18 of Set 6 | barentsburg\n",
      "City not found. Skipping...\n",
      "Processing Record 19 of Set 6 | san cristobal\n",
      "Processing Record 20 of Set 6 | khandbari\n",
      "Processing Record 21 of Set 6 | masterton\n",
      "Processing Record 22 of Set 6 | filadelfia\n",
      "Processing Record 23 of Set 6 | manaus\n",
      "Processing Record 24 of Set 6 | bargal\n",
      "City not found. Skipping...\n",
      "Processing Record 25 of Set 6 | samusu\n",
      "City not found. Skipping...\n",
      "Processing Record 26 of Set 6 | port augusta\n",
      "Processing Record 27 of Set 6 | axim\n",
      "Processing Record 28 of Set 6 | mayumba\n",
      "Processing Record 29 of Set 6 | lazurne\n",
      "Processing Record 30 of Set 6 | moree\n",
      "Processing Record 31 of Set 6 | leova\n",
      "Processing Record 32 of Set 6 | rafraf\n",
      "Processing Record 33 of Set 6 | batemans bay\n",
      "Processing Record 34 of Set 6 | esperance\n",
      "Processing Record 35 of Set 6 | dikson\n",
      "Processing Record 36 of Set 6 | zyryanka\n",
      "Processing Record 37 of Set 6 | tomatlan\n",
      "Processing Record 38 of Set 6 | wenatchee\n",
      "Processing Record 39 of Set 6 | qinzhou\n",
      "Processing Record 40 of Set 6 | arkhipo-osipovka\n",
      "Processing Record 41 of Set 6 | kiruna\n",
      "Processing Record 42 of Set 6 | namatanai\n",
      "Processing Record 43 of Set 6 | stromness\n",
      "Processing Record 44 of Set 6 | luanda\n",
      "Processing Record 45 of Set 6 | bama\n",
      "Processing Record 46 of Set 6 | babat\n",
      "Processing Record 47 of Set 6 | pangody\n",
      "Processing Record 48 of Set 6 | makakilo city\n",
      "Processing Record 49 of Set 6 | corinto\n",
      "Processing Record 50 of Set 6 | synya\n",
      "Processing Record 1 of Set 7 | harindanga\n",
      "Processing Record 2 of Set 7 | curuguaty\n",
      "Processing Record 3 of Set 7 | tuatapere\n",
      "Processing Record 4 of Set 7 | cuamba\n",
      "Processing Record 5 of Set 7 | batagay-alyta\n",
      "Processing Record 6 of Set 7 | marawi\n",
      "Processing Record 7 of Set 7 | surab\n",
      "Processing Record 8 of Set 7 | narrabri\n",
      "Processing Record 9 of Set 7 | bull savanna\n",
      "Processing Record 10 of Set 7 | trincomalee\n",
      "Processing Record 11 of Set 7 | sola\n",
      "Processing Record 12 of Set 7 | helong\n",
      "Processing Record 13 of Set 7 | guerrero negro\n",
      "Processing Record 14 of Set 7 | fairbanks\n",
      "Processing Record 15 of Set 7 | sangar\n",
      "Processing Record 16 of Set 7 | upernavik\n",
      "Processing Record 17 of Set 7 | myanaung\n",
      "Processing Record 18 of Set 7 | manadhoo\n",
      "Processing Record 19 of Set 7 | garut\n",
      "Processing Record 20 of Set 7 | bolshegrivskoye\n",
      "City not found. Skipping...\n",
      "Processing Record 21 of Set 7 | hualmay\n",
      "Processing Record 22 of Set 7 | rahuri\n",
      "Processing Record 23 of Set 7 | flinders\n",
      "Processing Record 24 of Set 7 | andilamena\n",
      "Processing Record 25 of Set 7 | ozgon\n",
      "City not found. Skipping...\n",
      "Processing Record 26 of Set 7 | smithers\n",
      "Processing Record 27 of Set 7 | nagato\n",
      "Processing Record 28 of Set 7 | murray bridge\n",
      "Processing Record 29 of Set 7 | komsomolskiy\n",
      "Processing Record 30 of Set 7 | presidencia roque saenz pena\n",
      "Processing Record 31 of Set 7 | meulaboh\n",
      "Processing Record 32 of Set 7 | khandagayty\n",
      "Processing Record 33 of Set 7 | burica\n",
      "City not found. Skipping...\n",
      "Processing Record 34 of Set 7 | pizarro\n",
      "Processing Record 35 of Set 7 | belushya guba\n",
      "City not found. Skipping...\n",
      "Processing Record 36 of Set 7 | cabo san lucas\n",
      "Processing Record 37 of Set 7 | srednekolymsk\n",
      "Processing Record 38 of Set 7 | smolenka\n",
      "Processing Record 39 of Set 7 | treuchtlingen\n",
      "Processing Record 40 of Set 7 | saskylakh\n",
      "Processing Record 41 of Set 7 | ormara\n",
      "Processing Record 42 of Set 7 | labutta\n",
      "City not found. Skipping...\n",
      "Processing Record 43 of Set 7 | san quintin\n",
      "Processing Record 44 of Set 7 | inta\n",
      "Processing Record 45 of Set 7 | barreirinhas\n",
      "Processing Record 46 of Set 7 | kilindoni\n",
      "Processing Record 47 of Set 7 | kasongo-lunda\n",
      "Processing Record 48 of Set 7 | mount gambier\n",
      "Processing Record 49 of Set 7 | dinsor\n",
      "City not found. Skipping...\n",
      "Processing Record 50 of Set 7 | harper\n",
      "Processing Record 1 of Set 8 | ilo\n",
      "Processing Record 2 of Set 8 | mutis\n",
      "Processing Record 3 of Set 8 | alamosa\n",
      "Processing Record 4 of Set 8 | ponte de sor\n",
      "Processing Record 5 of Set 8 | deputatskiy\n",
      "Processing Record 6 of Set 8 | porto novo\n",
      "Processing Record 7 of Set 8 | chebarkul\n",
      "Processing Record 8 of Set 8 | norman wells\n",
      "Processing Record 9 of Set 8 | beloha\n",
      "Processing Record 10 of Set 8 | sao joao da barra\n",
      "Processing Record 11 of Set 8 | la palma\n",
      "Processing Record 12 of Set 8 | santiago del estero\n",
      "Processing Record 13 of Set 8 | mutsamudu\n",
      "City not found. Skipping...\n",
      "Processing Record 14 of Set 8 | ossora\n",
      "Processing Record 15 of Set 8 | alice springs\n",
      "Processing Record 16 of Set 8 | rumonge\n",
      "Processing Record 17 of Set 8 | faya\n",
      "Processing Record 18 of Set 8 | kula\n",
      "Processing Record 19 of Set 8 | bambous virieux\n",
      "Processing Record 20 of Set 8 | andros town\n",
      "Processing Record 21 of Set 8 | berdigestyakh\n",
      "Processing Record 22 of Set 8 | hervey bay\n",
      "Processing Record 23 of Set 8 | astana\n",
      "Processing Record 24 of Set 8 | esteio\n",
      "Processing Record 25 of Set 8 | havelock\n"
     ]
    },
    {
     "name": "stdout",
     "output_type": "stream",
     "text": [
      "Processing Record 26 of Set 8 | berezovyy\n",
      "Processing Record 27 of Set 8 | chumikan\n",
      "Processing Record 28 of Set 8 | marcona\n",
      "City not found. Skipping...\n",
      "Processing Record 29 of Set 8 | ginda\n",
      "Processing Record 30 of Set 8 | sao felix do xingu\n",
      "Processing Record 31 of Set 8 | khed brahma\n",
      "Processing Record 32 of Set 8 | rio gallegos\n",
      "Processing Record 33 of Set 8 | ketchikan\n",
      "Processing Record 34 of Set 8 | djambala\n",
      "Processing Record 35 of Set 8 | aguimes\n",
      "Processing Record 36 of Set 8 | iracoubo\n",
      "Processing Record 37 of Set 8 | frunze\n",
      "Processing Record 38 of Set 8 | bandarbeyla\n",
      "Processing Record 39 of Set 8 | luganville\n",
      "Processing Record 40 of Set 8 | asha\n",
      "Processing Record 41 of Set 8 | sakakah\n",
      "Processing Record 42 of Set 8 | muswellbrook\n",
      "Processing Record 43 of Set 8 | antofagasta\n",
      "Processing Record 44 of Set 8 | flin flon\n",
      "Processing Record 45 of Set 8 | chapais\n",
      "Processing Record 46 of Set 8 | biloela\n",
      "Processing Record 47 of Set 8 | grand gaube\n",
      "Processing Record 48 of Set 8 | kysyl-syr\n",
      "Processing Record 49 of Set 8 | ensley\n",
      "Processing Record 50 of Set 8 | adrar\n",
      "Processing Record 1 of Set 9 | mayskiy\n",
      "Processing Record 2 of Set 9 | bentiu\n",
      "Processing Record 3 of Set 9 | tharrawaddy\n",
      "City not found. Skipping...\n",
      "Processing Record 4 of Set 9 | kununurra\n",
      "Processing Record 5 of Set 9 | yatou\n",
      "Processing Record 6 of Set 9 | port blair\n",
      "Processing Record 7 of Set 9 | san andres\n",
      "Processing Record 8 of Set 9 | mundra\n",
      "Processing Record 9 of Set 9 | tarudant\n",
      "City not found. Skipping...\n",
      "Processing Record 10 of Set 9 | karoi\n",
      "Processing Record 11 of Set 9 | tautira\n",
      "Processing Record 12 of Set 9 | marabba\n",
      "Processing Record 13 of Set 9 | mehran\n",
      "Processing Record 14 of Set 9 | keti bandar\n",
      "Processing Record 15 of Set 9 | omsukchan\n",
      "Processing Record 16 of Set 9 | caravelas\n",
      "Processing Record 17 of Set 9 | acarau\n",
      "Processing Record 18 of Set 9 | bilibino\n",
      "Processing Record 19 of Set 9 | kande\n",
      "Processing Record 20 of Set 9 | palabuhanratu\n",
      "City not found. Skipping...\n",
      "Processing Record 21 of Set 9 | bara\n",
      "Processing Record 22 of Set 9 | isparta\n",
      "Processing Record 23 of Set 9 | kambove\n",
      "Processing Record 24 of Set 9 | dingle\n",
      "Processing Record 25 of Set 9 | tiarei\n",
      "Processing Record 26 of Set 9 | bol\n",
      "Processing Record 27 of Set 9 | zalantun\n",
      "Processing Record 28 of Set 9 | mizan teferi\n",
      "Processing Record 29 of Set 9 | bairiki\n",
      "Processing Record 30 of Set 9 | marsa matruh\n",
      "Processing Record 31 of Set 9 | baykit\n",
      "Processing Record 32 of Set 9 | turukhansk\n",
      "Processing Record 33 of Set 9 | santander jimenez\n",
      "Processing Record 34 of Set 9 | halifax\n",
      "Processing Record 35 of Set 9 | egvekinot\n",
      "Processing Record 36 of Set 9 | svetlaya\n",
      "Processing Record 37 of Set 9 | college\n",
      "Processing Record 38 of Set 9 | eureka\n",
      "Processing Record 39 of Set 9 | aklavik\n",
      "Processing Record 40 of Set 9 | fort-shevchenko\n",
      "Processing Record 41 of Set 9 | pocosol\n",
      "Processing Record 42 of Set 9 | derzhavinsk\n",
      "Processing Record 43 of Set 9 | zharkent\n",
      "Processing Record 44 of Set 9 | port lincoln\n",
      "Processing Record 45 of Set 9 | mecca\n",
      "Processing Record 46 of Set 9 | te anau\n",
      "Processing Record 47 of Set 9 | marathon\n",
      "Processing Record 48 of Set 9 | phumi samraong\n",
      "City not found. Skipping...\n",
      "Processing Record 49 of Set 9 | kruisfontein\n",
      "Processing Record 50 of Set 9 | skalistyy\n",
      "City not found. Skipping...\n",
      "Processing Record 1 of Set 10 | mamallapuram\n",
      "Processing Record 2 of Set 10 | bethel\n",
      "Processing Record 3 of Set 10 | harstad\n",
      "Processing Record 4 of Set 10 | walvis bay\n",
      "Processing Record 5 of Set 10 | natal\n",
      "Processing Record 6 of Set 10 | kempten\n",
      "Processing Record 7 of Set 10 | prince george\n",
      "Processing Record 8 of Set 10 | ruteng\n",
      "Processing Record 9 of Set 10 | arsikere\n",
      "Processing Record 10 of Set 10 | coihaique\n",
      "Processing Record 11 of Set 10 | nemuro\n",
      "Processing Record 12 of Set 10 | yakeshi\n",
      "Processing Record 13 of Set 10 | naryan-mar\n",
      "Processing Record 14 of Set 10 | mangan\n",
      "Processing Record 15 of Set 10 | basoko\n",
      "Processing Record 16 of Set 10 | mughal sarai\n",
      "Processing Record 17 of Set 10 | luau\n",
      "Processing Record 18 of Set 10 | nishihara\n",
      "Processing Record 19 of Set 10 | viedma\n",
      "Processing Record 20 of Set 10 | teguldet\n",
      "Processing Record 21 of Set 10 | la rioja\n",
      "Processing Record 22 of Set 10 | lashio\n",
      "Processing Record 23 of Set 10 | aldan\n",
      "Processing Record 24 of Set 10 | bajo baudo\n",
      "City not found. Skipping...\n",
      "Processing Record 25 of Set 10 | jinchengjiang\n",
      "City not found. Skipping...\n",
      "Processing Record 26 of Set 10 | nhulunbuy\n",
      "Processing Record 27 of Set 10 | markova\n",
      "Processing Record 28 of Set 10 | nouakchott\n",
      "Processing Record 29 of Set 10 | demyansk\n",
      "Processing Record 30 of Set 10 | wawa\n",
      "Processing Record 31 of Set 10 | santana do livramento\n",
      "Processing Record 32 of Set 10 | micomeseng\n",
      "Processing Record 33 of Set 10 | cape canaveral\n",
      "Processing Record 34 of Set 10 | asau\n",
      "Processing Record 35 of Set 10 | honiara\n",
      "Processing Record 36 of Set 10 | abu samrah\n",
      "Processing Record 37 of Set 10 | matara\n",
      "Processing Record 38 of Set 10 | belaya gora\n",
      "Processing Record 39 of Set 10 | yerofey pavlovich\n",
      "Processing Record 40 of Set 10 | stykkisholmur\n",
      "Processing Record 41 of Set 10 | shimoda\n",
      "Processing Record 42 of Set 10 | raudeberg\n",
      "Processing Record 43 of Set 10 | muzhi\n",
      "Processing Record 44 of Set 10 | hot springs\n",
      "Processing Record 45 of Set 10 | ikwiriri\n",
      "Processing Record 46 of Set 10 | dinar\n",
      "Processing Record 47 of Set 10 | cap malheureux\n",
      "Processing Record 48 of Set 10 | upata\n",
      "Processing Record 49 of Set 10 | mogadishu\n",
      "Processing Record 50 of Set 10 | taoudenni\n",
      "Processing Record 1 of Set 11 | kyaikto\n",
      "Processing Record 2 of Set 11 | anaconda\n",
      "Processing Record 3 of Set 11 | awbari\n",
      "Processing Record 4 of Set 11 | galle\n",
      "Processing Record 5 of Set 11 | camacha\n",
      "Processing Record 6 of Set 11 | myaundzha\n",
      "Processing Record 7 of Set 11 | kuche\n",
      "City not found. Skipping...\n",
      "Processing Record 8 of Set 11 | filingue\n",
      "Processing Record 9 of Set 11 | pangai\n",
      "Processing Record 10 of Set 11 | mangrol\n",
      "Processing Record 11 of Set 11 | belmonte\n",
      "Processing Record 12 of Set 11 | bereda\n",
      "Processing Record 13 of Set 11 | vanimo\n",
      "Processing Record 14 of Set 11 | kabanjahe\n",
      "Processing Record 15 of Set 11 | luba\n",
      "Processing Record 16 of Set 11 | thanh hoa\n",
      "Processing Record 17 of Set 11 | ust-omchug\n",
      "Processing Record 18 of Set 11 | ponazyrevo\n",
      "Processing Record 19 of Set 11 | russell\n",
      "Processing Record 20 of Set 11 | andra\n",
      "Processing Record 21 of Set 11 | urdzhar\n",
      "City not found. Skipping...\n",
      "Processing Record 22 of Set 11 | miracema do tocantins\n",
      "Processing Record 23 of Set 11 | citluk\n",
      "Processing Record 24 of Set 11 | sovetskiy\n",
      "Processing Record 25 of Set 11 | gwanda\n",
      "Processing Record 26 of Set 11 | abaza\n",
      "Processing Record 27 of Set 11 | erenhot\n",
      "Processing Record 28 of Set 11 | masingbi\n",
      "Processing Record 29 of Set 11 | sapanta\n",
      "Processing Record 30 of Set 11 | barawe\n",
      "City not found. Skipping...\n",
      "Processing Record 31 of Set 11 | sebezh\n",
      "Processing Record 32 of Set 11 | macia\n",
      "Processing Record 33 of Set 11 | bagdarin\n",
      "Processing Record 34 of Set 11 | alcaudete\n",
      "Processing Record 35 of Set 11 | verkhoyansk\n",
      "Processing Record 36 of Set 11 | malwan\n",
      "City not found. Skipping...\n",
      "Processing Record 37 of Set 11 | meyungs\n",
      "City not found. Skipping...\n",
      "Processing Record 38 of Set 11 | aswan\n",
      "Processing Record 39 of Set 11 | pemangkat\n",
      "Processing Record 40 of Set 11 | kudahuvadhoo\n",
      "Processing Record 41 of Set 11 | nome\n",
      "Processing Record 42 of Set 11 | petersburg\n",
      "Processing Record 43 of Set 11 | fort wellington\n",
      "Processing Record 44 of Set 11 | morant bay\n",
      "Processing Record 45 of Set 11 | evensk\n",
      "Processing Record 46 of Set 11 | la ronge\n",
      "Processing Record 47 of Set 11 | niksic\n",
      "Processing Record 48 of Set 11 | pisco\n",
      "Processing Record 49 of Set 11 | linden\n",
      "Processing Record 50 of Set 11 | kirkwall\n",
      "Processing Record 1 of Set 12 | tingo maria\n",
      "Processing Record 2 of Set 12 | yulara\n",
      "Processing Record 3 of Set 12 | kohlu\n",
      "Processing Record 4 of Set 12 | columbia\n",
      "Processing Record 5 of Set 12 | roberto payan\n",
      "City not found. Skipping...\n",
      "Processing Record 6 of Set 12 | krasnorechenskiy\n",
      "Processing Record 7 of Set 12 | sorvag\n",
      "City not found. Skipping...\n",
      "Processing Record 8 of Set 12 | channel-port aux basques\n",
      "Processing Record 9 of Set 12 | hofn\n",
      "Processing Record 10 of Set 12 | zadar\n",
      "Processing Record 11 of Set 12 | ambilobe\n",
      "Processing Record 12 of Set 12 | senneterre\n"
     ]
    },
    {
     "name": "stdout",
     "output_type": "stream",
     "text": [
      "Processing Record 13 of Set 12 | ubinskoye\n",
      "Processing Record 14 of Set 12 | malanje\n",
      "Processing Record 15 of Set 12 | alta floresta\n",
      "Processing Record 16 of Set 12 | buta\n",
      "Processing Record 17 of Set 12 | lorengau\n",
      "Processing Record 18 of Set 12 | placido de castro\n",
      "Processing Record 19 of Set 12 | manbij\n",
      "Processing Record 20 of Set 12 | bundaberg\n",
      "Processing Record 21 of Set 12 | zarubino\n",
      "Processing Record 22 of Set 12 | pasighat\n",
      "Processing Record 23 of Set 12 | darhan\n",
      "Processing Record 24 of Set 12 | sistranda\n",
      "Processing Record 25 of Set 12 | manokwari\n",
      "Processing Record 26 of Set 12 | takaka\n",
      "Processing Record 27 of Set 12 | ugoofaaru\n",
      "Processing Record 28 of Set 12 | empalme\n",
      "Processing Record 29 of Set 12 | zaozerne\n",
      "Processing Record 30 of Set 12 | shingu\n",
      "Processing Record 31 of Set 12 | alenquer\n",
      "Processing Record 32 of Set 12 | taksimo\n",
      "Processing Record 33 of Set 12 | tsabong\n",
      "Processing Record 34 of Set 12 | sorland\n",
      "Processing Record 35 of Set 12 | banda aceh\n",
      "Processing Record 36 of Set 12 | biak\n",
      "Processing Record 37 of Set 12 | noumea\n",
      "Processing Record 38 of Set 12 | moron\n",
      "Processing Record 39 of Set 12 | brokopondo\n",
      "Processing Record 40 of Set 12 | mwinilunga\n",
      "Processing Record 41 of Set 12 | cheyenne\n",
      "Processing Record 42 of Set 12 | akure\n",
      "Processing Record 43 of Set 12 | czestochowa\n",
      "Processing Record 44 of Set 12 | tazovskiy\n",
      "Processing Record 45 of Set 12 | yashkino\n",
      "Processing Record 46 of Set 12 | calvinia\n",
      "Processing Record 47 of Set 12 | kaili\n",
      "Processing Record 48 of Set 12 | boshnyakovo\n",
      "Processing Record 49 of Set 12 | bonthe\n",
      "Processing Record 50 of Set 12 | basco\n",
      "Processing Record 1 of Set 13 | kisarawe\n",
      "Processing Record 2 of Set 13 | katsuura\n",
      "Processing Record 3 of Set 13 | pangnirtung\n",
      "Processing Record 4 of Set 13 | petropavlovsk-kamchatskiy\n",
      "Processing Record 5 of Set 13 | stornoway\n",
      "Processing Record 6 of Set 13 | ziro\n",
      "Processing Record 7 of Set 13 | kudat\n",
      "Processing Record 8 of Set 13 | adre\n",
      "Processing Record 9 of Set 13 | antalaha\n",
      "Processing Record 10 of Set 13 | puerto carreno\n",
      "Processing Record 11 of Set 13 | eyl\n",
      "Processing Record 12 of Set 13 | ciudad bolivar\n",
      "Processing Record 13 of Set 13 | port macquarie\n",
      "Processing Record 14 of Set 13 | karratha\n",
      "-----------------------------\n",
      "Data Retrieval Complete\n",
      "-----------------------------\n"
     ]
    }
   ],
   "source": [
    "city_data = []\n",
    "rcd = 0\n",
    "sets = 1\n",
    "\n",
    "print('\\nBeginning Data Retrieval\\n-----------------------------\\n')\n",
    "\n",
    "for city in cities:\n",
    "    rcd += 1\n",
    "    print(f'Processing Record {rcd} of Set {sets} | {city}')\n",
    "    \n",
    "    if rcd == 50:\n",
    "        rcd = 0\n",
    "        sets += 1\n",
    "\n",
    "    url = f\"https://api.openweathermap.org/data/2.5/weather?units=Imperial&appid={weather_api_key}&q={city}\"\n",
    "    res = requests.get(url).json()\n",
    "\n",
    "    try:\n",
    "        city_data.append({\n",
    "            'City': city,\n",
    "            'Lat': res['coord']['lat'],\n",
    "            'Lng': res['coord']['lon'],\n",
    "            'Temp': res['main']['temp_max'],\n",
    "            'Humidity': res['main']['humidity'],\n",
    "            'Cloudiness': res['clouds']['all'],\n",
    "            'Wind': res['wind']['speed'],\n",
    "            'Country': res['sys']['country'],\n",
    "            'Date': res['dt']        \n",
    "        })\n",
    "    except:\n",
    "        print('City not found. Skipping...')\n",
    "        pass\n",
    "        \n",
    "print('-----------------------------\\nData Retrieval Complete\\n-----------------------------') "
   ]
  },
  {
   "cell_type": "markdown",
   "metadata": {},
   "source": [
    "### Convert Raw Data to DataFrame\n",
    "* Export the city data into a .csv.\n",
    "* Display the DataFrame"
   ]
  },
  {
   "cell_type": "code",
   "execution_count": 20,
   "metadata": {},
   "outputs": [
    {
     "data": {
      "text/html": [
       "<div>\n",
       "<style scoped>\n",
       "    .dataframe tbody tr th:only-of-type {\n",
       "        vertical-align: middle;\n",
       "    }\n",
       "\n",
       "    .dataframe tbody tr th {\n",
       "        vertical-align: top;\n",
       "    }\n",
       "\n",
       "    .dataframe thead th {\n",
       "        text-align: right;\n",
       "    }\n",
       "</style>\n",
       "<table border=\"1\" class=\"dataframe\">\n",
       "  <thead>\n",
       "    <tr style=\"text-align: right;\">\n",
       "      <th></th>\n",
       "      <th>City</th>\n",
       "      <th>Lat</th>\n",
       "      <th>Lng</th>\n",
       "      <th>Temp</th>\n",
       "      <th>Humidity</th>\n",
       "      <th>Cloudiness</th>\n",
       "      <th>Wind</th>\n",
       "      <th>Country</th>\n",
       "      <th>Date</th>\n",
       "    </tr>\n",
       "  </thead>\n",
       "  <tbody>\n",
       "    <tr>\n",
       "      <th>0</th>\n",
       "      <td>vaini</td>\n",
       "      <td>-21.2000</td>\n",
       "      <td>-175.2000</td>\n",
       "      <td>82.40</td>\n",
       "      <td>89</td>\n",
       "      <td>75</td>\n",
       "      <td>9.22</td>\n",
       "      <td>TO</td>\n",
       "      <td>1612580738</td>\n",
       "    </tr>\n",
       "    <tr>\n",
       "      <th>1</th>\n",
       "      <td>rikitea</td>\n",
       "      <td>-23.1203</td>\n",
       "      <td>-134.9692</td>\n",
       "      <td>77.67</td>\n",
       "      <td>75</td>\n",
       "      <td>5</td>\n",
       "      <td>18.99</td>\n",
       "      <td>PF</td>\n",
       "      <td>1612580739</td>\n",
       "    </tr>\n",
       "    <tr>\n",
       "      <th>2</th>\n",
       "      <td>mahebourg</td>\n",
       "      <td>-20.4081</td>\n",
       "      <td>57.7000</td>\n",
       "      <td>78.80</td>\n",
       "      <td>83</td>\n",
       "      <td>75</td>\n",
       "      <td>10.36</td>\n",
       "      <td>MU</td>\n",
       "      <td>1612580562</td>\n",
       "    </tr>\n",
       "    <tr>\n",
       "      <th>3</th>\n",
       "      <td>saldanha</td>\n",
       "      <td>-33.0117</td>\n",
       "      <td>17.9442</td>\n",
       "      <td>64.42</td>\n",
       "      <td>92</td>\n",
       "      <td>0</td>\n",
       "      <td>15.70</td>\n",
       "      <td>ZA</td>\n",
       "      <td>1612580740</td>\n",
       "    </tr>\n",
       "    <tr>\n",
       "      <th>4</th>\n",
       "      <td>poum</td>\n",
       "      <td>-20.2333</td>\n",
       "      <td>164.0167</td>\n",
       "      <td>80.01</td>\n",
       "      <td>70</td>\n",
       "      <td>6</td>\n",
       "      <td>7.09</td>\n",
       "      <td>NC</td>\n",
       "      <td>1612580740</td>\n",
       "    </tr>\n",
       "  </tbody>\n",
       "</table>\n",
       "</div>"
      ],
      "text/plain": [
       "        City      Lat       Lng   Temp  Humidity  Cloudiness   Wind Country  \\\n",
       "0      vaini -21.2000 -175.2000  82.40        89          75   9.22      TO   \n",
       "1    rikitea -23.1203 -134.9692  77.67        75           5  18.99      PF   \n",
       "2  mahebourg -20.4081   57.7000  78.80        83          75  10.36      MU   \n",
       "3   saldanha -33.0117   17.9442  64.42        92           0  15.70      ZA   \n",
       "4       poum -20.2333  164.0167  80.01        70           6   7.09      NC   \n",
       "\n",
       "         Date  \n",
       "0  1612580738  \n",
       "1  1612580739  \n",
       "2  1612580562  \n",
       "3  1612580740  \n",
       "4  1612580740  "
      ]
     },
     "execution_count": 20,
     "metadata": {},
     "output_type": "execute_result"
    }
   ],
   "source": [
    "Cities_df = pd.DataFrame(city_data)\n",
    "Cities_df.to_csv(output_data_file) \n",
    "Cities_df.head()\n"
   ]
  },
  {
   "cell_type": "code",
   "execution_count": 5,
   "metadata": {},
   "outputs": [
    {
     "data": {
      "text/html": [
       "<div>\n",
       "<style scoped>\n",
       "    .dataframe tbody tr th:only-of-type {\n",
       "        vertical-align: middle;\n",
       "    }\n",
       "\n",
       "    .dataframe tbody tr th {\n",
       "        vertical-align: top;\n",
       "    }\n",
       "\n",
       "    .dataframe thead th {\n",
       "        text-align: right;\n",
       "    }\n",
       "</style>\n",
       "<table border=\"1\" class=\"dataframe\">\n",
       "  <thead>\n",
       "    <tr style=\"text-align: right;\">\n",
       "      <th></th>\n",
       "      <th>City</th>\n",
       "      <th>Lat</th>\n",
       "      <th>Lng</th>\n",
       "      <th>Temp</th>\n",
       "      <th>Humidity</th>\n",
       "      <th>Cloudiness</th>\n",
       "      <th>Wind</th>\n",
       "      <th>Country</th>\n",
       "      <th>Date</th>\n",
       "    </tr>\n",
       "  </thead>\n",
       "  <tbody>\n",
       "    <tr>\n",
       "      <th>0</th>\n",
       "      <td>vaini</td>\n",
       "      <td>-21.2000</td>\n",
       "      <td>-175.2000</td>\n",
       "      <td>82.40</td>\n",
       "      <td>89</td>\n",
       "      <td>75</td>\n",
       "      <td>9.22</td>\n",
       "      <td>TO</td>\n",
       "      <td>1612580738</td>\n",
       "    </tr>\n",
       "    <tr>\n",
       "      <th>1</th>\n",
       "      <td>rikitea</td>\n",
       "      <td>-23.1203</td>\n",
       "      <td>-134.9692</td>\n",
       "      <td>77.67</td>\n",
       "      <td>75</td>\n",
       "      <td>5</td>\n",
       "      <td>18.99</td>\n",
       "      <td>PF</td>\n",
       "      <td>1612580739</td>\n",
       "    </tr>\n",
       "    <tr>\n",
       "      <th>2</th>\n",
       "      <td>mahebourg</td>\n",
       "      <td>-20.4081</td>\n",
       "      <td>57.7000</td>\n",
       "      <td>78.80</td>\n",
       "      <td>83</td>\n",
       "      <td>75</td>\n",
       "      <td>10.36</td>\n",
       "      <td>MU</td>\n",
       "      <td>1612580562</td>\n",
       "    </tr>\n",
       "    <tr>\n",
       "      <th>3</th>\n",
       "      <td>saldanha</td>\n",
       "      <td>-33.0117</td>\n",
       "      <td>17.9442</td>\n",
       "      <td>64.42</td>\n",
       "      <td>92</td>\n",
       "      <td>0</td>\n",
       "      <td>15.70</td>\n",
       "      <td>ZA</td>\n",
       "      <td>1612580740</td>\n",
       "    </tr>\n",
       "    <tr>\n",
       "      <th>4</th>\n",
       "      <td>poum</td>\n",
       "      <td>-20.2333</td>\n",
       "      <td>164.0167</td>\n",
       "      <td>80.01</td>\n",
       "      <td>70</td>\n",
       "      <td>6</td>\n",
       "      <td>7.09</td>\n",
       "      <td>NC</td>\n",
       "      <td>1612580740</td>\n",
       "    </tr>\n",
       "    <tr>\n",
       "      <th>...</th>\n",
       "      <td>...</td>\n",
       "      <td>...</td>\n",
       "      <td>...</td>\n",
       "      <td>...</td>\n",
       "      <td>...</td>\n",
       "      <td>...</td>\n",
       "      <td>...</td>\n",
       "      <td>...</td>\n",
       "      <td>...</td>\n",
       "    </tr>\n",
       "    <tr>\n",
       "      <th>563</th>\n",
       "      <td>puerto carreno</td>\n",
       "      <td>6.1890</td>\n",
       "      <td>-67.4859</td>\n",
       "      <td>80.67</td>\n",
       "      <td>55</td>\n",
       "      <td>35</td>\n",
       "      <td>7.52</td>\n",
       "      <td>CO</td>\n",
       "      <td>1612580603</td>\n",
       "    </tr>\n",
       "    <tr>\n",
       "      <th>564</th>\n",
       "      <td>eyl</td>\n",
       "      <td>7.9803</td>\n",
       "      <td>49.8164</td>\n",
       "      <td>69.51</td>\n",
       "      <td>81</td>\n",
       "      <td>48</td>\n",
       "      <td>11.43</td>\n",
       "      <td>SO</td>\n",
       "      <td>1612580579</td>\n",
       "    </tr>\n",
       "    <tr>\n",
       "      <th>565</th>\n",
       "      <td>ciudad bolivar</td>\n",
       "      <td>8.1222</td>\n",
       "      <td>-63.5497</td>\n",
       "      <td>78.42</td>\n",
       "      <td>69</td>\n",
       "      <td>100</td>\n",
       "      <td>14.41</td>\n",
       "      <td>VE</td>\n",
       "      <td>1612580870</td>\n",
       "    </tr>\n",
       "    <tr>\n",
       "      <th>566</th>\n",
       "      <td>port macquarie</td>\n",
       "      <td>-31.4333</td>\n",
       "      <td>152.9167</td>\n",
       "      <td>86.00</td>\n",
       "      <td>60</td>\n",
       "      <td>100</td>\n",
       "      <td>1.01</td>\n",
       "      <td>AU</td>\n",
       "      <td>1612580870</td>\n",
       "    </tr>\n",
       "    <tr>\n",
       "      <th>567</th>\n",
       "      <td>karratha</td>\n",
       "      <td>-20.7377</td>\n",
       "      <td>116.8463</td>\n",
       "      <td>83.77</td>\n",
       "      <td>64</td>\n",
       "      <td>43</td>\n",
       "      <td>12.82</td>\n",
       "      <td>AU</td>\n",
       "      <td>1612580871</td>\n",
       "    </tr>\n",
       "  </tbody>\n",
       "</table>\n",
       "<p>568 rows × 9 columns</p>\n",
       "</div>"
      ],
      "text/plain": [
       "               City      Lat       Lng   Temp  Humidity  Cloudiness   Wind  \\\n",
       "0             vaini -21.2000 -175.2000  82.40        89          75   9.22   \n",
       "1           rikitea -23.1203 -134.9692  77.67        75           5  18.99   \n",
       "2         mahebourg -20.4081   57.7000  78.80        83          75  10.36   \n",
       "3          saldanha -33.0117   17.9442  64.42        92           0  15.70   \n",
       "4              poum -20.2333  164.0167  80.01        70           6   7.09   \n",
       "..              ...      ...       ...    ...       ...         ...    ...   \n",
       "563  puerto carreno   6.1890  -67.4859  80.67        55          35   7.52   \n",
       "564             eyl   7.9803   49.8164  69.51        81          48  11.43   \n",
       "565  ciudad bolivar   8.1222  -63.5497  78.42        69         100  14.41   \n",
       "566  port macquarie -31.4333  152.9167  86.00        60         100   1.01   \n",
       "567        karratha -20.7377  116.8463  83.77        64          43  12.82   \n",
       "\n",
       "    Country        Date  \n",
       "0        TO  1612580738  \n",
       "1        PF  1612580739  \n",
       "2        MU  1612580562  \n",
       "3        ZA  1612580740  \n",
       "4        NC  1612580740  \n",
       "..      ...         ...  \n",
       "563      CO  1612580603  \n",
       "564      SO  1612580579  \n",
       "565      VE  1612580870  \n",
       "566      AU  1612580870  \n",
       "567      AU  1612580871  \n",
       "\n",
       "[568 rows x 9 columns]"
      ]
     },
     "execution_count": 5,
     "metadata": {},
     "output_type": "execute_result"
    }
   ],
   "source": [
    "Cities_df"
   ]
  },
  {
   "cell_type": "markdown",
   "metadata": {},
   "source": [
    "## Inspect the data and remove the cities where the humidity > 100%.\n",
    "----\n",
    "Skip this step if there are no cities that have humidity > 100%. "
   ]
  },
  {
   "cell_type": "code",
   "execution_count": null,
   "metadata": {},
   "outputs": [],
   "source": []
  },
  {
   "cell_type": "code",
   "execution_count": 6,
   "metadata": {},
   "outputs": [
    {
     "data": {
      "text/html": [
       "<div>\n",
       "<style scoped>\n",
       "    .dataframe tbody tr th:only-of-type {\n",
       "        vertical-align: middle;\n",
       "    }\n",
       "\n",
       "    .dataframe tbody tr th {\n",
       "        vertical-align: top;\n",
       "    }\n",
       "\n",
       "    .dataframe thead th {\n",
       "        text-align: right;\n",
       "    }\n",
       "</style>\n",
       "<table border=\"1\" class=\"dataframe\">\n",
       "  <thead>\n",
       "    <tr style=\"text-align: right;\">\n",
       "      <th></th>\n",
       "      <th>City</th>\n",
       "      <th>Lat</th>\n",
       "      <th>Lng</th>\n",
       "      <th>Temp</th>\n",
       "      <th>Humidity</th>\n",
       "      <th>Cloudiness</th>\n",
       "      <th>Wind</th>\n",
       "      <th>Country</th>\n",
       "      <th>Date</th>\n",
       "    </tr>\n",
       "  </thead>\n",
       "  <tbody>\n",
       "  </tbody>\n",
       "</table>\n",
       "</div>"
      ],
      "text/plain": [
       "Empty DataFrame\n",
       "Columns: [City, Lat, Lng, Temp, Humidity, Cloudiness, Wind, Country, Date]\n",
       "Index: []"
      ]
     },
     "execution_count": 6,
     "metadata": {},
     "output_type": "execute_result"
    }
   ],
   "source": [
    "#  Get the indices of cities that have humidity over 100%.\n",
    "Humidity_over100= Cities_df[(Cities_df['Humidity']>100)]\n",
    "Humidity_over100"
   ]
  },
  {
   "cell_type": "code",
   "execution_count": 7,
   "metadata": {},
   "outputs": [],
   "source": [
    "# Make a new DataFrame equal to the city data to drop all humidity outliers by index.\n",
    "# Passing \"inplace=False\" will make a copy of the city_data DataFrame, which we call \"clean_city_data\".\n"
   ]
  },
  {
   "cell_type": "code",
   "execution_count": null,
   "metadata": {},
   "outputs": [],
   "source": [
    "\n"
   ]
  },
  {
   "cell_type": "markdown",
   "metadata": {},
   "source": [
    "## Plotting the Data\n",
    "* Use proper labeling of the plots using plot titles (including date of analysis) and axes labels.\n",
    "* Save the plotted figures as .pngs."
   ]
  },
  {
   "cell_type": "markdown",
   "metadata": {},
   "source": [
    "## Latitude vs. Temperature Plot"
   ]
  },
  {
   "cell_type": "code",
   "execution_count": 8,
   "metadata": {
    "scrolled": true
   },
   "outputs": [
    {
     "data": {
      "image/png": "[encoded data removed]",
      "text/plain": [
       "<Figure size 432x288 with 1 Axes>"
      ]
     },
     "metadata": {
      "needs_background": "light"
     },
     "output_type": "display_data"
    }
   ],
   "source": [
    "#Latitute vs Temparature Scatter Plot\n",
    "x_values = [Cities_df['Lat']]\n",
    "y_values = [Cities_df['Temp']]\n",
    "plt.scatter(x_values,y_values, color='red', marker='o')\n",
    "plt.title(\"Latitute vs Temparature Scatter Plot\")\n",
    "plt.xlabel(\"Latitude\")\n",
    "plt.ylabel(\"Temperature\")\n",
    "plt.show()"
   ]
  },
  {
   "cell_type": "markdown",
   "metadata": {},
   "source": [
    "## Latitude vs. Humidity Plot"
   ]
  },
  {
   "cell_type": "code",
   "execution_count": 9,
   "metadata": {},
   "outputs": [
    {
     "data": {
      "image/png": "[encoded data removed]",
      "text/plain": [
       "<Figure size 432x288 with 1 Axes>"
      ]
     },
     "metadata": {
      "needs_background": "light"
     },
     "output_type": "display_data"
    }
   ],
   "source": [
    "#Humidity (%) vs. Latitude Scatter Plot\n",
    "x_values = [Cities_df['Lat']]\n",
    "y_values = [Cities_df['Humidity']]\n",
    "plt.scatter(x_values,y_values, color='blue', marker='o')\n",
    "plt.title(\"Humidity (%) vs. Latitude Scatter Plot\")\n",
    "plt.xlabel(\"Latitude\")\n",
    "plt.ylabel(\"Humidity\")\n",
    "plt.show()"
   ]
  },
  {
   "cell_type": "markdown",
   "metadata": {},
   "source": [
    "## Latitude vs. Cloudiness Plot"
   ]
  },
  {
   "cell_type": "code",
   "execution_count": 10,
   "metadata": {},
   "outputs": [
    {
     "data": {
      "image/png": "[encoded data removed]",
      "text/plain": [
       "<Figure size 432x288 with 1 Axes>"
      ]
     },
     "metadata": {
      "needs_background": "light"
     },
     "output_type": "display_data"
    }
   ],
   "source": [
    "#Cloudiness (%) vs. Latitude Scatter Plot\n",
    "x_values = [Cities_df['Lat']]\n",
    "y_values = [Cities_df['Cloudiness']]\n",
    "plt.scatter(x_values,y_values, color='black', marker='o')\n",
    "plt.title(\"Cloudiness vs. Latitude Scatter Plot\")\n",
    "plt.xlabel(\"Latitude\")\n",
    "plt.ylabel(\"Cloudiness\")\n",
    "plt.show()"
   ]
  },
  {
   "cell_type": "markdown",
   "metadata": {},
   "source": [
    "## Latitude vs. Wind Speed Plot"
   ]
  },
  {
   "cell_type": "code",
   "execution_count": 11,
   "metadata": {},
   "outputs": [
    {
     "data": {
      "image/png": "[encoded data removed]",
      "text/plain": [
       "<Figure size 432x288 with 1 Axes>"
      ]
     },
     "metadata": {
      "needs_background": "light"
     },
     "output_type": "display_data"
    }
   ],
   "source": [
    "#Wind Speed (mph) vs. Latitude Scatter Plot\n",
    "x_values = [Cities_df['Lat']]\n",
    "y_values = [Cities_df['Wind']]\n",
    "plt.scatter(x_values,y_values, color='gray', marker='o')\n",
    "plt.title(\"Wind Speed vs. Latitude Scatter Plot\")\n",
    "plt.xlabel(\"Latitude\")\n",
    "plt.ylabel(\"Wind Speed\")\n",
    "plt.show()"
   ]
  },
  {
   "cell_type": "markdown",
   "metadata": {},
   "source": [
    "## Linear Regression"
   ]
  },
  {
   "cell_type": "markdown",
   "metadata": {},
   "source": [
    "####  Northern Hemisphere - Max Temp vs. Latitude Linear Regression"
   ]
  },
  {
   "cell_type": "code",
   "execution_count": 12,
   "metadata": {},
   "outputs": [
    {
     "data": {
      "image/png": "[encoded data removed]",
      "text/plain": [
       "<Figure size 432x288 with 1 Axes>"
      ]
     },
     "metadata": {
      "needs_background": "light"
     },
     "output_type": "display_data"
    }
   ],
   "source": [
    "#Northern Hemisphere - Latitute vs Temparature Scatter Plot\n",
    "filter_values = Cities_df[Cities_df['Lat']>0]\n",
    "x_values= filter_values['Lat']\n",
    "y_values = filter_values['Temp']\n",
    "\n",
    "(slope, intercept,rvalue,pvalue,stderr) = linregress(x_values,y_values)\n",
    "regress_values = (x_values * slope) + intercept\n",
    "\n",
    "line_eq = \"y =\" + str(round(slope,2)) + \"x + \" + str(round(intercept,2))\n",
    "plt.plot(x_values,regress_values,\"b-\")\n",
    "plt.annotate(line_eq,(2,1), fontsize=15 , color=\"blue\")\n",
    "\n",
    "plt.scatter(x_values,y_values, color='red', marker='o')\n",
    "plt.title(\"Northern Hemisphere - Latitute vs Temparature Scatter Plot\")\n",
    "plt.xlabel(\"Latitude\")\n",
    "plt.ylabel(\"Temperature\")\n",
    "plt.show()"
   ]
  },
  {
   "cell_type": "markdown",
   "metadata": {},
   "source": [
    "####  Southern Hemisphere - Max Temp vs. Latitude Linear Regression"
   ]
  },
  {
   "cell_type": "code",
   "execution_count": 13,
   "metadata": {},
   "outputs": [
    {
     "name": "stdout",
     "output_type": "stream",
     "text": [
      "y =0.3x + 79.46\n"
     ]
    },
    {
     "data": {
      "image/png": "[encoded data removed]",
      "text/plain": [
       "<Figure size 432x288 with 1 Axes>"
      ]
     },
     "metadata": {
      "needs_background": "light"
     },
     "output_type": "display_data"
    }
   ],
   "source": [
    "#Southern Hemisphere - Latitute vs Temparature Scatter Plot\n",
    "filter_values = Cities_df[Cities_df['Lat']<0]\n",
    "x_values= filter_values['Lat']\n",
    "y_values = filter_values['Temp']\n",
    "\n",
    "(slope, intercept,rvalue,pvalue,stderr) = linregress(x_values,y_values)\n",
    "regress_values = (x_values * slope) + intercept\n",
    "line_eq = \"y =\" + str(round(slope,2)) + \"x + \" + str(round(intercept,2))\n",
    "print(line_eq)\n",
    "plt.plot(x_values,regress_values,\"b-\")\n",
    "plt.annotate(line_eq,(2,1), fontsize=15 , color=\"red\")\n",
    "\n",
    "plt.scatter(x_values,y_values, color='red', marker='o')\n",
    "plt.title(\"Southern Hemisphere - Latitute vs Temparature Scatter Plot\")\n",
    "plt.xlabel(\"Latitude\")\n",
    "plt.ylabel(\"Temperature\")\n",
    "plt.show()"
   ]
  },
  {
   "cell_type": "markdown",
   "metadata": {},
   "source": [
    "####  Northern Hemisphere - Humidity (%) vs. Latitude Linear Regression"
   ]
  },
  {
   "cell_type": "code",
   "execution_count": 14,
   "metadata": {},
   "outputs": [
    {
     "name": "stdout",
     "output_type": "stream",
     "text": [
      "y =0.3x + 62.65\n"
     ]
    },
    {
     "data": {
      "image/png": "[encoded data removed]",
      "text/plain": [
       "<Figure size 432x288 with 1 Axes>"
      ]
     },
     "metadata": {
      "needs_background": "light"
     },
     "output_type": "display_data"
    }
   ],
   "source": [
    "#Northern Hemisphere Humidity (%) vs. Latitude Scatter Plot\n",
    "filter_values = Cities_df[Cities_df['Lat']>0]\n",
    "x_values= filter_values['Lat']\n",
    "y_values = filter_values['Humidity']\n",
    "\n",
    "(slope, intercept,rvalue,pvalue,stderr) = linregress(x_values,y_values)\n",
    "regress_values = (x_values * slope) + intercept\n",
    "line_eq = \"y =\" + str(round(slope,2)) + \"x + \" + str(round(intercept,2))\n",
    "print(line_eq)\n",
    "plt.plot(x_values,regress_values,\"r-\")\n",
    "plt.annotate(line_eq,(2,1), fontsize=15 , color=\"red\")\n",
    "\n",
    "\n",
    "plt.scatter(x_values,y_values, color='blue', marker='o')\n",
    "plt.title(\"Northern Hemisphere Humidity (%) vs. Latitude Scatter Plot\")\n",
    "plt.xlabel(\"Latitude\")\n",
    "plt.ylabel(\"Humidity\")\n",
    "plt.show()"
   ]
  },
  {
   "cell_type": "markdown",
   "metadata": {},
   "source": [
    "####  Southern Hemisphere - Humidity (%) vs. Latitude Linear Regression"
   ]
  },
  {
   "cell_type": "code",
   "execution_count": 15,
   "metadata": {},
   "outputs": [
    {
     "name": "stdout",
     "output_type": "stream",
     "text": [
      "y =0.39x + 85.9\n"
     ]
    },
    {
     "data": {
      "image/png": "[encoded data removed]",
      "text/plain": [
       "<Figure size 432x288 with 1 Axes>"
      ]
     },
     "metadata": {
      "needs_background": "light"
     },
     "output_type": "display_data"
    }
   ],
   "source": [
    "#Southern Hemisphere Humidity (%) vs. Latitude Scatter Plot\n",
    "filter_values = Cities_df[Cities_df['Lat']<0]\n",
    "x_values= filter_values['Lat']\n",
    "y_values = filter_values['Humidity']\n",
    "\n",
    "(slope, intercept,rvalue,pvalue,stderr) = linregress(x_values,y_values)\n",
    "regress_values = (x_values * slope) + intercept\n",
    "line_eq = \"y =\" + str(round(slope,2)) + \"x + \" + str(round(intercept,2))\n",
    "print(line_eq)\n",
    "plt.plot(x_values,regress_values,\"r-\")\n",
    "plt.annotate(line_eq,(2,1), fontsize=15 , color=\"red\")\n",
    "\n",
    "\n",
    "plt.scatter(x_values,y_values, color='blue', marker='o')\n",
    "plt.title(\"Southern Hemisphere Humidity (%) vs. Latitude Scatter Plot\")\n",
    "plt.xlabel(\"Latitude\")\n",
    "plt.ylabel(\"Humidity\")\n",
    "plt.show()"
   ]
  },
  {
   "cell_type": "markdown",
   "metadata": {},
   "source": [
    "####  Northern Hemisphere - Cloudiness (%) vs. Latitude Linear Regression"
   ]
  },
  {
   "cell_type": "code",
   "execution_count": 16,
   "metadata": {},
   "outputs": [
    {
     "name": "stdout",
     "output_type": "stream",
     "text": [
      "y =0.67x + 30.31\n"
     ]
    },
    {
     "data": {
      "image/png": "[encoded data removed]",
      "text/plain": [
       "<Figure size 432x288 with 1 Axes>"
      ]
     },
     "metadata": {
      "needs_background": "light"
     },
     "output_type": "display_data"
    }
   ],
   "source": [
    "#Northern Hemisphere - Cloudiness (%) vs. Latitude Linear Regression\n",
    "filter_values = Cities_df[Cities_df['Lat']>0]\n",
    "x_values= filter_values['Lat']\n",
    "y_values = filter_values['Cloudiness']\n",
    "\n",
    "(slope, intercept,rvalue,pvalue,stderr) = linregress(x_values,y_values)\n",
    "regress_values = (x_values * slope) + intercept\n",
    "line_eq = \"y =\" + str(round(slope,2)) + \"x + \" + str(round(intercept,2))\n",
    "print(line_eq)\n",
    "plt.plot(x_values,regress_values,\"r-\")\n",
    "plt.annotate(line_eq,(2,1), fontsize=15 , color=\"red\")\n",
    "\n",
    "\n",
    "plt.scatter(x_values,y_values, color='black', marker='o')\n",
    "plt.title(\"Northern Hemisphere - Cloudiness (%) vs. Latitude \")\n",
    "plt.xlabel(\"Latitude\")\n",
    "plt.ylabel(\"Cloudiness\")\n",
    "plt.show()"
   ]
  },
  {
   "cell_type": "markdown",
   "metadata": {},
   "source": [
    "####  Southern Hemisphere - Cloudiness (%) vs. Latitude Linear Regression"
   ]
  },
  {
   "cell_type": "code",
   "execution_count": 17,
   "metadata": {},
   "outputs": [
    {
     "name": "stdout",
     "output_type": "stream",
     "text": [
      "y =0.89x + 75.47\n"
     ]
    },
    {
     "data": {
      "image/png": "[encoded data removed]",
      "text/plain": [
       "<Figure size 432x288 with 1 Axes>"
      ]
     },
     "metadata": {
      "needs_background": "light"
     },
     "output_type": "display_data"
    }
   ],
   "source": [
    "#Shouthern Hemisphere Cloudiness (%) vs. Latitude Scatter Plot\n",
    "filter_values = Cities_df[Cities_df['Lat']<0]\n",
    "x_values= filter_values['Lat']\n",
    "y_values = filter_values['Cloudiness']\n",
    "\n",
    "(slope, intercept,rvalue,pvalue,stderr) = linregress(x_values,y_values)\n",
    "regress_values = (x_values * slope) + intercept\n",
    "line_eq = \"y =\" + str(round(slope,2)) + \"x + \" + str(round(intercept,2))\n",
    "print(line_eq)\n",
    "plt.plot(x_values,regress_values,\"r-\")\n",
    "plt.annotate(line_eq,(2,1), fontsize=15 , color=\"red\")\n",
    "\n",
    "plt.scatter(x_values,y_values, color='black', marker='o')\n",
    "plt.title(\"Shouthern Hemisphere Cloudiness (%) vs. Latitude Scatter Plot\")\n",
    "plt.xlabel(\"Latitude\")\n",
    "plt.ylabel(\"Cloudiness\")\n",
    "plt.show()"
   ]
  },
  {
   "cell_type": "markdown",
   "metadata": {},
   "source": [
    "####  Northern Hemisphere - Wind Speed (mph) vs. Latitude Linear Regression"
   ]
  },
  {
   "cell_type": "code",
   "execution_count": 18,
   "metadata": {},
   "outputs": [
    {
     "name": "stdout",
     "output_type": "stream",
     "text": [
      "y =0.02x + 7.53\n"
     ]
    },
    {
     "data": {
      "image/png": "[encoded data removed]",
      "text/plain": [
       "<Figure size 432x288 with 1 Axes>"
      ]
     },
     "metadata": {
      "needs_background": "light"
     },
     "output_type": "display_data"
    }
   ],
   "source": [
    "#Northern Hemisphere - Wind Speed (mph) vs. Latitude Linear Regressio\n",
    "filter_values = Cities_df[Cities_df['Lat']>0]\n",
    "x_values= filter_values['Lat']\n",
    "y_values = filter_values['Wind']\n",
    "\n",
    "(slope, intercept,rvalue,pvalue,stderr) = linregress(x_values,y_values)\n",
    "regress_values = (x_values * slope) + intercept\n",
    "line_eq = \"y =\" + str(round(slope,2)) + \"x + \" + str(round(intercept,2))\n",
    "print(line_eq)\n",
    "plt.plot(x_values,regress_values,\"r-\")\n",
    "plt.annotate(line_eq,(2,1), fontsize=15 , color=\"red\")\n",
    "\n",
    "plt.scatter(x_values,y_values, color='gray', marker='o')\n",
    "plt.title(\"Northern Hemisphere - Wind Speed (mph) vs. Latitude \")\n",
    "plt.xlabel(\"Latitude\")\n",
    "plt.ylabel(\"Wind Speed\")\n",
    "plt.show()"
   ]
  },
  {
   "cell_type": "markdown",
   "metadata": {},
   "source": [
    "####  Southern Hemisphere - Wind Speed (mph) vs. Latitude Linear Regression"
   ]
  },
  {
   "cell_type": "code",
   "execution_count": 19,
   "metadata": {},
   "outputs": [
    {
     "name": "stdout",
     "output_type": "stream",
     "text": [
      "y =-0.12x + 4.44\n"
     ]
    },
    {
     "data": {
      "image/png": "[encoded data removed]",
      "text/plain": [
       "<Figure size 432x288 with 1 Axes>"
      ]
     },
     "metadata": {
      "needs_background": "light"
     },
     "output_type": "display_data"
    }
   ],
   "source": [
    "#Southern Hemisphere - Wind Speed (mph) vs. Latitude Linear Regressio\n",
    "filter_values = Cities_df[Cities_df['Lat']<0]\n",
    "x_values= filter_values['Lat']\n",
    "y_values = filter_values['Wind']\n",
    "\n",
    "(slope, intercept,rvalue,pvalue,stderr) = linregress(x_values,y_values)\n",
    "regress_values = (x_values * slope) + intercept\n",
    "line_eq = \"y =\" + str(round(slope,2)) + \"x + \" + str(round(intercept,2))\n",
    "print(line_eq)\n",
    "plt.plot(x_values,regress_values,\"r-\")\n",
    "plt.annotate(line_eq,(2,1), fontsize=15 , color=\"red\")\n",
    "\n",
    "plt.scatter(x_values,y_values, color='gray', marker='o')\n",
    "plt.title(\"Southern Hemisphere - Wind Speed (mph) vs. Latitude \")\n",
    "plt.xlabel(\"Latitude\")\n",
    "plt.ylabel(\"Wind Speed\")\n",
    "plt.show()"
   ]
  }
 ],
 "metadata": {
  "anaconda-cloud": {},
  "kernel_info": {
   "name": "python3"
  },
  "kernelspec": {
   "display_name": "PhytonData",
   "language": "python",
   "name": "phytondata"
  },
  "language_info": {
   "codemirror_mode": {
    "name": "ipython",
    "version": 3
   },
   "file_extension": ".py",
   "mimetype": "text/x-python",
   "name": "python",
   "nbconvert_exporter": "python",
   "pygments_lexer": "ipython3",
   "version": "3.6.12"
  },
  "latex_envs": {
   "LaTeX_envs_menu_present": true,
   "autoclose": false,
   "autocomplete": true,
   "bibliofile": "biblio.bib",
   "cite_by": "apalike",
   "current_citInitial": 1,
   "eqLabelWithNumbers": true,
   "eqNumInitial": 1,
   "hotkeys": {
    "equation": "Ctrl-E",
    "itemize": "Ctrl-I"
   },
   "labels_anchors": false,
   "latex_user_defs": false,
   "report_style_numbering": false,
   "user_envs_cfg": false
  },
  "nteract": {
   "version": "0.12.3"
  }
 },
 "nbformat": 4,
 "nbformat_minor": 2
}
